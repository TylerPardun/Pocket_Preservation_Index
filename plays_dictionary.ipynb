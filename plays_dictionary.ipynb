{
 "cells": [
  {
   "cell_type": "markdown",
   "id": "a5bca793",
   "metadata": {},
   "source": [
    "# Convert the Raw Data into a Dictionary\n",
    "This notebook is designed to read in the master file and create an organized dictionary that will be used in the following analysis. Again, no need to re-run this cell since the full dictionary is housed in \"full_plays_dictionary.pckl\""
   ]
  },
  {
   "cell_type": "code",
   "execution_count": null,
   "id": "73c2f417",
   "metadata": {},
   "outputs": [],
   "source": [
    "import warnings\n",
    "warnings.filterwarnings('ignore')\n",
    "\n",
    "import numpy as np\n",
    "import pickle\n",
    "from tqdm import tqdm\n",
    "import pandas as pd\n",
    "\n",
    "d = pd.read_csv('master_chrono.csv')\n"
   ]
  },
  {
   "cell_type": "code",
   "execution_count": null,
   "id": "bbd063d5",
   "metadata": {},
   "outputs": [],
   "source": [
    "#Loop through each gameID and grab the plays within it -> Code block has a run time of ~3 hours to complete.\n",
    "pret = {'rush':{},'pass':{}}\n",
    "\n",
    "gameIDs = np.unique(d.gameId.values)\n",
    "for val in tqdm(gameIDs,total=len(gameIDs)):\n",
    "\n",
    "    dgame = d.loc[np.where(d.gameId==val)[0]] #Dataframe of the gameID\n",
    "    dgame.reset_index(inplace=True,drop=True)\n",
    "\n",
    "    playIDs = np.unique(dgame.playId.values)\n",
    "\n",
    "    #Isolate the play\n",
    "    for play in playIDs:\n",
    "\n",
    "        dplay = dgame.loc[np.where(dgame.playId==play)[0]]\n",
    "        dplay.reset_index(inplace=True,drop=True)\n",
    "\n",
    "        #Log the gameId and playId\n",
    "        if str(val)+'-'+str(play) not in pret:\n",
    "            if dplay.rush.values[0] == 1:\n",
    "                pret['rush'][str(val)+'-'+str(play)] = {}\n",
    "            else:\n",
    "                pret['pass'][str(val)+'-'+str(play)] = {}\n",
    "\n",
    "        #Parse through each frame within the play\n",
    "        frames = np.unique(dplay.frameId.values)\n",
    "        for frame in frames:\n",
    "\n",
    "            dframe = dplay.loc[np.where(dplay.frameId==frame)[0]]\n",
    "            dframe.reset_index(inplace=True,drop=True)\n",
    "\n",
    "            #Isolate all players within this frame\n",
    "            nflIDs = np.unique(dframe.nflId.values)\n",
    "            for player in nflIDs:\n",
    "\n",
    "                dplayer = dframe.loc[np.where(dframe.nflId==player)[0]]\n",
    "                dplayer.reset_index(inplace=True,drop=True)\n",
    "\n",
    "                #Log the player on this frame\n",
    "                if dplayer.team.values[0]==dplayer.homeTeamAbbr.values[0]:\n",
    "                    home_bool = 'home'\n",
    "                elif dplayer.team.values[0]==dplayer.visitorTeamAbbr.values[0]:\n",
    "                    home_bool = 'away'\n",
    "                else:\n",
    "                    home_bool = dplayer.team.values[0] #Should be 'football'\n",
    "\n",
    "                alist = dplayer[['x','y','s','a','dis','o','dir','jerseyNumber','playDirection','officialPosition','epa']].values[0].tolist()\n",
    "                alist = np.append(alist,home_bool).tolist()\n",
    "                if dplay.rush.values[0] == 1:\n",
    "                    if str(frame) not in pret['rush'][str(val)+'-'+str(play)]:\n",
    "                        pret['rush'][str(val)+'-'+str(play)][str(frame)] = {}\n",
    "                    pret['rush'][str(val)+'-'+str(play)][str(frame)][str(dplayer.nflId.values[0])] = alist\n",
    "                else:\n",
    "                    if str(frame) not in pret['pass'][str(val)+'-'+str(play)]:\n",
    "                        pret['pass'][str(val)+'-'+str(play)][str(frame)] = {}\n",
    "                    pret['pass'][str(val)+'-'+str(play)][str(frame)][str(dplayer.nflId.values[0])] = alist\n"
   ]
  },
  {
   "cell_type": "code",
   "execution_count": null,
   "id": "651088e9",
   "metadata": {},
   "outputs": [],
   "source": [
    "#An example of how this dictionary stores the data\n",
    "pret['pass']['2021090900-97']['1']['42377.0']"
   ]
  },
  {
   "cell_type": "code",
   "execution_count": null,
   "id": "f60617e7",
   "metadata": {},
   "outputs": [],
   "source": [
    "#Save this dictionary to pickle\n",
    "f = open('full_plays_dictionary.pckl', 'wb')\n",
    "pickle.dump(pret, f)\n",
    "f.close()\n"
   ]
  },
  {
   "cell_type": "code",
   "execution_count": 1,
   "id": "ab77c872",
   "metadata": {},
   "outputs": [
    {
     "ename": "NameError",
     "evalue": "name 'pret' is not defined",
     "output_type": "error",
     "traceback": [
      "\u001b[0;31m---------------------------------------------------------------------------\u001b[0m",
      "\u001b[0;31mNameError\u001b[0m                                 Traceback (most recent call last)",
      "Cell \u001b[0;32mIn [1], line 1\u001b[0m\n\u001b[0;32m----> 1\u001b[0m \u001b[43mpret\u001b[49m[\u001b[38;5;124m'\u001b[39m\u001b[38;5;124mpass\u001b[39m\u001b[38;5;124m'\u001b[39m][\u001b[38;5;124m'\u001b[39m\u001b[38;5;124m2021091913-2775\u001b[39m\u001b[38;5;124m'\u001b[39m]\n",
      "\u001b[0;31mNameError\u001b[0m: name 'pret' is not defined"
     ]
    }
   ],
   "source": [
    "pret['pass']['2021091913-2775']"
   ]
  },
  {
   "cell_type": "code",
   "execution_count": null,
   "id": "3b57d1fa",
   "metadata": {},
   "outputs": [],
   "source": []
  }
 ],
 "metadata": {
  "kernelspec": {
   "display_name": "Python 3 (ipykernel)",
   "language": "python",
   "name": "python3"
  },
  "language_info": {
   "codemirror_mode": {
    "name": "ipython",
    "version": 3
   },
   "file_extension": ".py",
   "mimetype": "text/x-python",
   "name": "python",
   "nbconvert_exporter": "python",
   "pygments_lexer": "ipython3",
   "version": "3.10.6"
  }
 },
 "nbformat": 4,
 "nbformat_minor": 5
}
