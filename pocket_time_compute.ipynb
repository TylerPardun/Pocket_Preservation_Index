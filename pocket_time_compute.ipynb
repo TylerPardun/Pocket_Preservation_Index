{
 "cells": [
  {
   "cell_type": "markdown",
   "id": "f75d2077",
   "metadata": {},
   "source": [
    "# Expected Pocket Time\n",
    "This notebook will compute the expected pocket time for each play within the full dataset.\n",
    "\n",
    "## Overview\n",
    "There are 2 neural networks being trained here, the first one (Model A) is designed to predict a player's movement in the next frame of a play given the current state in the frame being looked at. The implication of this is that the predicted movement represents an average movement that specific player will take in his current situation. Given that the model is only trained on the data we currently have, this is not a seasonal average. \n",
    "\n",
    "The second neural network is one that predicts the total time left the QB has in the pocket. This model is trained ONLY on sack plays where the total time in the pocket was reached. It is trained on a frame-by-frame basis (hence a current field state) and will compute the total seconds remaining that the QB has in the pocket given that field state.\n",
    "\n",
    "All together when both models are being used, we can decompose the changes in pocket time remaning as the play moves forward in time. The jumps in the pocket time remaning are likely caused by an incident that happened on the field relative to either the offensive line or defensive line. We can then compute the average movement the O-line and D-line make given their field states to produce an average change pocket time. This average can be subtracted from the actual value to show whether each player is above or below their average in gaining or loosing the QB's time in the pocket.\n"
   ]
  },
  {
   "cell_type": "code",
   "execution_count": 4,
   "id": "b8f12a3f",
   "metadata": {},
   "outputs": [],
   "source": [
    "import numpy as np\n",
    "import pickle\n",
    "from tqdm import tqdm\n",
    "import os\n",
    "\n",
    "import torch\n",
    "import torch.nn as nn\n",
    "import torch.nn.functional as F\n",
    "import torch.optim as optim\n",
    "\n",
    "import matplotlib.pyplot as plt\n",
    "\n",
    "#Set by user -> location of the plays dictionary\n",
    "data_dir = \"/Users/admin/Desktop/data_bowl/data_bowl_github/\"\n",
    "\n",
    "#Open the dictionary\n",
    "f = open(data_dir+'full_plays_dictionary.pckl', 'rb')\n",
    "dat = pickle.load(f)\n",
    "f.close()"
   ]
  },
  {
   "cell_type": "code",
   "execution_count": 5,
   "id": "7fceb089",
   "metadata": {},
   "outputs": [],
   "source": [
    "#Set a list of functions needed to compute this\n",
    "def GetClosePlayers(dat_dict,player,plID,frID,radius=250):\n",
    "    '''\n",
    "    This function will return a dictionary of the all players on the field from closest\n",
    "    to farthest from the player in specified in the inputs.\n",
    "    \n",
    "    INPUTS:\n",
    "        dat_dict -> dict. the plays dictionary\n",
    "        player -> str. the player ID\n",
    "        plID -> str. the play ID\n",
    "        frID -> str. the frame ID\n",
    "        \n",
    "    RETURNS:\n",
    "        A sorted dictionary from closest to farthest players relative to\n",
    "        the input player.\n",
    "    '''\n",
    "    \n",
    "    #Open the dictionary\n",
    "    curr=dat_dict['pass'][plID][frID]\n",
    "    ofIDs=list(curr.keys()) #List of all player IDs for this game ID and frame ID\n",
    "    cx0=float(curr[player][0]) #X-position\n",
    "    cy0=float(curr[player][1]) #Y-position\n",
    "    \n",
    "    #Create empty 1D arrays to be filled (distance, x-dist, y-dist, ID, possession)\n",
    "    distv = np.zeros(len(ofIDs)) * np.nan\n",
    "    xrelv=np.zeros(len(ofIDs)) * np.nan\n",
    "    yrelv=np.zeros(len(ofIDs)) * np.nan\n",
    "    idv=np.zeros(len(ofIDs)) * np.nan\n",
    "    pos = np.zeros(len(ofIDs)).astype(object) * np.nan\n",
    "    \n",
    "    for count, idd in enumerate(ofIDs):\n",
    "        if idd=='-999.0': #Skip over the football itself\n",
    "            continue\n",
    "        #Take the difference in x and y position from the specified player to the others\n",
    "        xrel=float(curr[idd][0])-cx0\n",
    "        yrel=float(curr[idd][1])-cy0\n",
    "        dist_tot=np.sqrt(xrel**2+yrel**2) #Distance formula\n",
    "        poss = curr[idd][-3]\n",
    "        if dist_tot>radius:\n",
    "            continue\n",
    "        #Fill the arrays\n",
    "        distv[count] = dist_tot\n",
    "        idv[count] = idd\n",
    "        xrelv[count] = xrel\n",
    "        yrelv[count] = yrel\n",
    "        pos[count] = poss\n",
    "\n",
    "    #Sort the arrays here\n",
    "    sortperm=np.argsort(distv)\n",
    "    idv = idv[sortperm]\n",
    "    distv = distv[sortperm]\n",
    "    yrelv = yrelv[sortperm]\n",
    "    xrelv = xrelv[sortperm]\n",
    "    pos = pos[sortperm]\n",
    "    \n",
    "    return({'idv':idv,'distv':distv,'xrelv':xrelv,'yrelv':yrelv, 'pos': pos})\n",
    "\n",
    "def os2xyspeed(o,s):\n",
    "    '''\n",
    "    This function will take in the orientation of the player and return their x,y triangular coordinates.\n",
    "    INPUTS:\n",
    "        o,s -> 1D arrays of orientation and speed\n",
    "    RETURNS:\n",
    "        x,y -> arrays of input dimension corresponding to the \n",
    "        triangulated coordinates.\n",
    "    '''\n",
    "    \n",
    "    if o<90:\n",
    "        ot=o*2*np.pi/360\n",
    "        x=s*np.sin(ot)\n",
    "        y=s*np.cos(ot)\n",
    "    elif o<180:\n",
    "        ot=(180-o)*2*np.pi/360\n",
    "        x=s*np.sin(ot)\n",
    "        y=-s*np.cos(ot)\n",
    "    elif o<180:\n",
    "        ot=(o-180)*2*np.pi/360\n",
    "        x=-s*np.sin(ot)\n",
    "        y=-s*np.cos(ot)\n",
    "    else:\n",
    "        ot=(360-o)*2*np.pi/360\n",
    "        x=-s*np.sin(ot)\n",
    "        y=s*np.cos(ot)\n",
    "    return([x,y])\n",
    "\n",
    "def GetFieldStateFeatures(plID,frID,dat_dict):\n",
    "    '''\n",
    "    This function will analyze the current state of the field and produce arrays that are meant to \n",
    "    train a neural network.\n",
    "    \n",
    "    INPUTS:\n",
    "        plID -> str. the play ID\n",
    "        frID -> str. the frame ID\n",
    "        dat_dict -> the plays dictionary\n",
    "        \n",
    "    RETURNS:\n",
    "        x -> list of arrays corresponding to the field state\n",
    "        x_players -> list of arrays corresponding to the player ID in x\n",
    "    '''\n",
    "    \n",
    "    plID,frID = str(plID),str(frID)\n",
    "    \n",
    "    teamkick=play_d[plID][4] #Find the posession Team\n",
    "    homeACR=game_d[plID.split(\"-\")[0]][4] #Find Home Team\n",
    "    awayACR=game_d[plID.split(\"-\")[0]][5] #Find Away Team\n",
    "    if teamkick==homeACR:\n",
    "        homekick=True\n",
    "    else:\n",
    "        homekick=False\n",
    "#-------------------------------------------------------------------------------------------------------------------\n",
    "    #reverse x coordinates for all objects if playdirection it to the right\n",
    "    revx=False\n",
    "    if dat_dict['pass'][plID]['1']['-999.0'][8].strip(\"\\\"\")=='right':\n",
    "        revx=True\n",
    "#-------------------------------------------------------------------------------------------------------------------\n",
    "    gcpout=GetClosePlayers(dat,'-999.0',plID,frID,radius=1000) #Outputs all players data in relation to the ball\n",
    "    \n",
    "    idx = np.where(gcpout['pos'] == 'QB')[0][0]\n",
    "    bholder = str(gcpout['idv'][idx]) #Get Player ID of the QB\n",
    "    \n",
    "    bx=float(dat_dict['pass'][plID][frID]['-999.0'][0]) #X-Coordinate of the ball\n",
    "    by=float(dat_dict['pass'][plID][frID]['-999.0'][1]) #Y-Coordinate of the ball\n",
    "    cx=float(dat_dict['pass'][plID][frID][bholder][0]) #X-Coordinate of the QB\n",
    "    cy=float(dat_dict['pass'][plID][frID][bholder][1]) #Y-Coordinate of the QB\n",
    "    cs=float(dat_dict['pass'][plID][frID][bholder][2]) #Speed of the QB at the given frame\n",
    "    ca=float(dat_dict['pass'][plID][frID][bholder][3]) #Acceleration of the QB at the given frame\n",
    "    cdis=float(dat_dict['pass'][plID][frID][bholder][4]) #Distance Traveled by the QB between last frame and current frame\n",
    "    co=float(dat_dict['pass'][plID][frID][bholder][5]) #Orientation of the QB \n",
    "    temp=os2xyspeed(co,cs)\n",
    "    cxspd=temp[0] #X-Velocity of the QB\n",
    "    cyspd=temp[1] #Y-Velocity of the QB\n",
    "    if revx:\n",
    "        cxspd=-cxspd #If Play was to the right, flip X-Coordinates\n",
    "        bx=120-bx\n",
    "        cx=120-cx\n",
    "    x=[]\n",
    "    x_players = []\n",
    "    #------------------------------------------------------------------------------------------------------------------- \n",
    "    \n",
    "    #Iterate through all players now\n",
    "    for i in range(len(gcpout['idv'])): \n",
    "        cID=str(gcpout['idv'][i]) \n",
    "        if cID !='nan':\n",
    "            \n",
    "            cx=float(dat_dict['pass'][plID][frID][cID][0])\n",
    "            cy=float(dat_dict['pass'][plID][frID][cID][1])\n",
    "            cs=float(dat_dict['pass'][plID][frID][cID][2])\n",
    "            ca=float(dat_dict['pass'][plID][frID][cID][3])\n",
    "            cdis=float(dat_dict['pass'][plID][frID][cID][4])\n",
    "            co=float(dat_dict['pass'][plID][frID][cID][5])# relx, rely, dist, xspeed, yspeed, acceleration, kicking_team_boolean, SORT BY DISTANCE TO BALL\n",
    "            temp=os2xyspeed(co,cs)\n",
    "            cxspd=temp[0]\n",
    "            cyspd=temp[1]\n",
    "            if revx:\n",
    "                cxspd=-cxspd\n",
    "                cx=120-cx\n",
    "            cretind=0\n",
    "            if (homekick and dat_dict['pass'][plID][frID][cID][11].strip(\"\\\"\")==\"home\") or ((not homekick) and dat_dict['pass'][plID][frID][cID][11].strip(\"\\\"\")==\"away\"):\n",
    "                cretind=1\n",
    "            x+=[(cx-bx)/20,(cy-by)/20,gcpout['distv'][i]/13,cxspd,cyspd,ca,cretind]\n",
    "            x_players+= [cID]*7\n",
    "\n",
    "    return(x,x_players)\n",
    "\n",
    "def GetClosePlayers_5(dat_dict,player,plID,frID,radius=250):\n",
    "    '''\n",
    "    Similar to the function GetClosePlayers, this will return the first 5 players.\n",
    "    \n",
    "    INPUTS:\n",
    "        dat_dict -> dict. containing the full dataset\n",
    "        player -> str. the player ID\n",
    "        plID -> str. the play ID\n",
    "        frID -> str. the frame ID\n",
    "   \n",
    "    RETURNS:\n",
    "        dictionary containing the first 5 players closest to the player specified.\n",
    "    '''\n",
    "    #Read in the dictionary\n",
    "    curr=dat_dict['pass'][plID][frID]\n",
    "    ofIDs=list(curr.keys())\n",
    "    cx0=float(curr[player][0])\n",
    "    cy0=float(curr[player][1])\n",
    "    \n",
    "    #Create empty arrays to be filled (distance, x-dist, y-dist, ID, possesion)\n",
    "    distv = np.zeros(len(ofIDs)) * np.nan\n",
    "    xrelv=np.zeros(len(ofIDs)) * np.nan\n",
    "    yrelv=np.zeros(len(ofIDs)) * np.nan\n",
    "    idv=np.zeros(len(ofIDs)) * np.nan\n",
    "    pos = np.zeros(len(ofIDs)).astype(object) * np.nan\n",
    "    \n",
    "    #Loop through each player ID\n",
    "    for count, idd in enumerate(ofIDs):\n",
    "        if idd!='-999.0': #remove the football location, no need for that\n",
    "            xrel=float(curr[idd][0])-cx0\n",
    "            yrel=float(curr[idd][1])-cy0\n",
    "            dist_tot=np.sqrt(xrel**2+yrel**2)\n",
    "            poss = curr[idd][-3]\n",
    "            if dist_tot<radius:\n",
    "                distv[count] = dist_tot\n",
    "                idv[count] = idd\n",
    "                xrelv[count] = xrel\n",
    "                yrelv[count] = yrel\n",
    "                pos[count] = poss\n",
    "\n",
    "    #Sort the data here\n",
    "    sortperm=np.argsort(distv)\n",
    "    idv = idv[sortperm]\n",
    "    distv = distv[sortperm]\n",
    "    yrelv = yrelv[sortperm]\n",
    "    xrelv = xrelv[sortperm]\n",
    "    pos = pos[sortperm]  \n",
    "    \n",
    "    return({'idv':idv,'distv':distv,'xrelv':xrelv,'yrelv':yrelv, 'pos': pos})\n",
    "\n",
    "def testerrv(net,testloader):\n",
    "    '''\n",
    "    This function tests the trained neural network.\n",
    "    \n",
    "    INPUTS:\n",
    "        net -> the model object\n",
    "        testloader -> the testing set\n",
    "    RETURNS:\n",
    "        the correlation between the testing and training set of the neural networks performance\n",
    "        \n",
    "    '''\n",
    "    outerr=[]\n",
    "    testout=np.array([])\n",
    "    trainout=np.array([])\n",
    "    with torch.no_grad():\n",
    "        for data in testloader:\n",
    "            images, labels = data\n",
    "            \n",
    "            #Calculate outputs by running images through the network\n",
    "            images=images.float()\n",
    "            labels=labels.float()\n",
    "            outputs = net(images).squeeze()\n",
    "            \n",
    "            #The class with the highest energy is what we choose as prediction\n",
    "            runtot=0\n",
    "            denom=float(labels.shape[0])\n",
    "            for i in range(int(denom)):\n",
    "                runtot+=abs(labels[i]-outputs[i])/denom\n",
    "            outerr.append(float(runtot))\n",
    "            testout=np.append(testout,torch.Tensor.numpy(outputs))\n",
    "            trainout=np.append(trainout,torch.Tensor.numpy(labels))\n",
    "    \n",
    "    return(np.corrcoef(testout,trainout)[0,1])\n",
    "\n",
    "def model_a_assimilation(dat_dict,plID,frID,frIDs,j,playerID):\n",
    "    '''\n",
    "    This function assimates and trains the first round of neural networks.\n",
    "    \n",
    "    INPUTS:\n",
    "        dat_dict -> dict. the full plays dictionary\n",
    "        plID -> str. the play ID\n",
    "        frID -> str. the frame ID\n",
    "        frIDs -> list of all frame IDs for this play\n",
    "        j -> int. an iterator\n",
    "        playerID -> str. the player ID\n",
    "        \n",
    "    RETURNS:\n",
    "        curx -> list containing the predictor variables needed to predict the movement \n",
    "        of the player specified given the current state of the field.\n",
    "    \n",
    "    '''\n",
    "    \n",
    "    teampos = play_d[plID][4] #Finds posession Team\n",
    "    homeACR = game_d[plID.split(\"-\")[0]][4] #Finds Home Team\n",
    "    awayACR = game_d[plID.split(\"-\")[0]][5] #Finds Away Team\n",
    "    if teampos == homeACR:\n",
    "        homepos = True\n",
    "    else:\n",
    "        homepos = False\n",
    "    \n",
    "    #Get the outcome vector: [deltax,deltay,a,xspd,yspd]\n",
    "    cx = float(dat_dict['pass'][plID][frID][playerID][0])\n",
    "    cy = float(dat_dict['pass'][plID][frID][playerID][1])\n",
    "    cs = float(dat_dict['pass'][plID][frID][playerID][2])\n",
    "    ca = float(dat_dict['pass'][plID][frID][playerID][3])\n",
    "    cdis = float(dat_dict['pass'][plID][frID][playerID][4])\n",
    "    co = float(dat_dict['pass'][plID][frID][playerID][5])\n",
    "    nx = float(dat_dict['pass'][plID][frIDs[j+1]][playerID][0])\n",
    "    ny = float(dat_dict['pass'][plID][frIDs[j+1]][playerID][1])\n",
    "    ns = float(dat_dict['pass'][plID][frIDs[j+1]][playerID][2])\n",
    "    na = float(dat_dict['pass'][plID][frIDs[j+1]][playerID][3])\n",
    "    ndis = float(dat_dict['pass'][plID][frIDs[j+1]][playerID][4])\n",
    "    no = float(dat_dict['pass'][plID][frIDs[j+1]][playerID][5])\n",
    "    temp = os2xyspeed(no,ns)\n",
    "    nxspd = temp[0]\n",
    "    nyspd = temp[1]\n",
    "    temp = os2xyspeed(co,cs)\n",
    "    cxspd = temp[0]\n",
    "    cyspd = temp[1]\n",
    "#-------------------------------------------------------------------------------------------------------------------\n",
    "#-------------------------------------------------------------------------------------------------------------------\n",
    "    ### get 5 closest players to the player specified\n",
    "    gcpout=GetClosePlayers(dat,playerID,plID,frID,radius=250)\n",
    "#-------------------------------------------------------------------------------------------------------------------\n",
    "#-------------------------------------------------------------------------------------------------------------------\n",
    "\n",
    "    #X-VARIABLE\n",
    "    curx=[ca,cxspd,cyspd,cdis] ####(PREDICTOR) Current Field State for reference player####\n",
    "#-------------------------------------------------------------------------------------------------------------------     \n",
    "    for l in range(len(gcpout)):\n",
    "        ID2=str(gcpout['idv'][l])\n",
    "        cx2=float(dat_dict['pass'][plID][frID][ID2][0])\n",
    "        cy2=float(dat_dict['pass'][plID][frID][ID2][1])\n",
    "        cs2=float(dat_dict['pass'][plID][frID][ID2][2])\n",
    "        ca2=float(dat_dict['pass'][plID][frID][ID2][3])\n",
    "        cdis2=float(dat_dict['pass'][plID][frID][ID2][4])\n",
    "        co2=float(dat_dict['pass'][plID][frID][ID2][5])\n",
    "        temp=os2xyspeed(co2,cs2)\n",
    "        cxspd2=temp[0]\n",
    "        cyspd2=temp[1]\n",
    "\n",
    "        #sameteam = 1 if reference player and closest player in question is on the same team\n",
    "        if dat_dict['pass'][plID][frID][ID2][11]==dat_dict['pass'][plID][frID][playerID][11]:\n",
    "            sameteam=1\n",
    "        else:\n",
    "            sameteam=0\n",
    "\n",
    "        #(PREDICTOR) Adds distance, difference in x&y coords, x&y speed, \n",
    "        #same team indicator for all players (including reference player)\n",
    "        curx+=[np.sqrt((cx2-cx)**2+(cy2-cy)**2),cx2-cx,cy2-cy,ca2,cxspd2,cyspd2,sameteam]\n",
    "#-------------------------------------------------------------------------------------------------------------------\n",
    "    # (PREDICTOR) Adds x&y coords of the ball\n",
    "    cx2=float(dat_dict['pass'][plID][frID]['-999.0'][0])\n",
    "    cy2=float(dat_dict['pass'][plID][frID]['-999.0'][1])\n",
    "\n",
    "    #Indicator to determine who is posession team\n",
    "    cretind=0\n",
    "    if (homepos and dat_dict['pass'][plID][frID][playerID][11].strip(\"\\\"\")==\"home\") or ((not homepos) and dat_dict['pass'][plID][frID][playerID][11].strip(\"\\\"\")==\"away\"):\n",
    "        cretind=1\n",
    "#-------------------------------------------------------------------------------------------------------------------            \n",
    "    #(PREDICTOR) Adds Footabll x&y coords, posession team indicator (1 = posession, 0 = defending)\n",
    "    curx+=[cx2,cy2,cretind]\n",
    "\n",
    "    return curx\n",
    "\n",
    "def player_pos2player_id(dat_dict,gameId,Player_Pos):\n",
    "    '''\n",
    "    This function will return the player ID for the specified position.\n",
    "    \n",
    "    INPUTS:\n",
    "        dat_dict -> dict. the full plays dictionary\n",
    "        gameID -> str. the game ID\n",
    "        Player_Pos -. str. the player position\n",
    "        \n",
    "    RETURNS:\n",
    "        pid -> list of the player IDs corresponding to that position\n",
    "    '''\n",
    "    \n",
    "    #Get the list of all player IDs\n",
    "    player_IDs_dict = list(dat_dict['pass'][gameId]['1'].keys())\n",
    "    pid = []\n",
    "    for p in player_IDs_dict:\n",
    "        if dat_dict['pass'][games[i]]['1'][str(p)][-3] == Player_Pos:\n",
    "            pid.append(p)\n",
    "    return pid\n",
    "\n",
    "\n",
    "#Initiate the neural network\n",
    "class Net(nn.Module):\n",
    "    def __init__(self):\n",
    "        super().__init__()\n",
    "        self.fc1 = nn.Linear(154, 200)\n",
    "        self.fc2 = nn.Linear(200,100)\n",
    "        self.fc3 = nn.Linear(100,20)\n",
    "        self.fc4 = nn.Linear(20, 1)\n",
    "\n",
    "    def forward(self, x):\n",
    "        x = F.relu(self.fc1(x))\n",
    "        x = F.relu(self.fc2(x))\n",
    "        x = F.relu(self.fc3(x))\n",
    "        x = self.fc4(x)#.squeeze()\n",
    "        return x\n",
    "net = Net()\n"
   ]
  },
  {
   "cell_type": "code",
   "execution_count": null,
   "id": "a4cfa6b3",
   "metadata": {},
   "outputs": [],
   "source": [
    "import pandas as pd\n",
    "2021090900-2330\n",
    "WEEK = '1'\n",
    "#d = pd.read_csv(data_dir+\"raw_data/week\" +WEEK+ \".csv\")\n",
    "np.unique(d.loc[np.where((d.gameId==2021090900)&(d.playId==2298))[0]].event.values)"
   ]
  },
  {
   "cell_type": "code",
   "execution_count": 6,
   "id": "4ec94e1b",
   "metadata": {},
   "outputs": [],
   "source": [
    "#Organize the data to ingest into the model\n",
    "os.chdir(data_dir)\n",
    "\n",
    "WEEKS = ['1','2','3','4','5','6','7','8']\n",
    "catchframe = {}\n",
    "passframe = {}\n",
    "sackframe = {}\n",
    "pID_s=set()\n",
    "pID_p=set()\n",
    "pID_sa=set()\n",
    "\n",
    "for WEEK in WEEKS:\n",
    "    filein=open(data_dir+\"raw_data/week\" +WEEK+ \".csv\",'r')\n",
    "    line=filein.readline()\n",
    "\n",
    "    #Get all playIDs when ball was snapped and onward\n",
    "    filein.seek(0)\n",
    "    for line in filein:\n",
    "        line_v=line.split(\",\")\n",
    "        if line_v[15].strip('\\n').strip('\"\"') == 'ball_snap' or line_v[15].strip('\\n').strip('\"\"') ==\"autoevent_ballsnap\":\n",
    "            gpID = line_v[0]+\"-\"+line_v[1]\n",
    "            pID_s.add(gpID)\n",
    "            catchframe[gpID] = line_v[3]\n",
    "            \n",
    "    #Get all playIDs when ball was thrown and onward\n",
    "    filein.seek(0)\n",
    "    for line in filein:\n",
    "        line_v=line.split(\",\")\n",
    "        if line_v[15].strip('\\n').strip('\"\"') == 'pass_forward' or line_v[15].strip('\\n').strip('\"\"') ==\"autoevent_passforward\" or line_v[15].strip('\\n').strip('\"\"') ==\"qb_sack\" or line_v[15].strip('\\n').strip('\"\"') ==\"qb_strip_sack\":\n",
    "            gpID = line_v[0]+\"-\"+line_v[1]\n",
    "            pID_p.add(gpID)\n",
    "            passframe[gpID] = line_v[3]\n",
    "            \n",
    "    #Get all playIDs if the Qb was sacked\n",
    "    filein.seek(0)\n",
    "    for line in filein:\n",
    "        line_v=line.split(\",\")\n",
    "        if line_v[15].strip('\\n').strip('\"\"') == 'qb_sack':\n",
    "            gpID = line_v[0]+\"-\"+line_v[1]\n",
    "            pID_sa.add(gpID)\n",
    "            sackframe[gpID] = line_v[3]\n",
    "\n",
    "\n",
    "filein2=open(data_dir+\"raw_data/games.csv\",'r')\n",
    "filein2.readline()\n",
    "game_d={}\n",
    "for line in filein2:\n",
    "    line_v=[x.strip('\\\"') for x in line.strip(\"\\n\").split(\",\")]\n",
    "    game_d[line_v[0]]=line_v[1:]\n",
    "\n",
    "filein3=open(data_dir+\"raw_data/plays.csv\",'r')\n",
    "filein3.readline()\n",
    "play_d={}\n",
    "for line in filein3:\n",
    "    line_v=[x.strip('\\\"') for x in line.strip(\"\\n\").split(\",\")]\n",
    "    play_d[line_v[0]+\"-\"+line_v[1]]=line_v[2:]\n",
    "    \n"
   ]
  },
  {
   "cell_type": "code",
   "execution_count": 7,
   "id": "36feea60",
   "metadata": {},
   "outputs": [
    {
     "name": "stderr",
     "output_type": "stream",
     "text": [
      "100%|█████████████████████████████████████████████████████████████████████████████████████████████████████████████████████| 451/451 [00:05<00:00, 84.54it/s]\n"
     ]
    },
    {
     "name": "stdout",
     "output_type": "stream",
     "text": [
      "Finished Training\n"
     ]
    }
   ],
   "source": [
    "#Create a second neural network that is trained ONLY on sack plays (where the true pocket time was reached)\n",
    "games = list(pID_sa)\n",
    "frames_tot = np.sum(np.array([len(list(dat['pass'][games[i]].keys())) for i in range(len(games))]))\n",
    "Y = np.zeros((frames_tot))*np.nan #[playId,seconds remaining]\n",
    "X = np.zeros((frames_tot,22*7))*np.nan #[playId, stats for each player]\n",
    "\n",
    "count = 0\n",
    "for i in tqdm(range(len(games))):\n",
    "    #Get the frame at which the QB was sacked\n",
    "    try:\n",
    "        frames = list(dat['pass'][games[i]].keys())\n",
    "\n",
    "        #Get the frame at which the ball was snapped\n",
    "        ball_snap = int(catchframe[games[i]])\n",
    "        #ball_pass = int(passframe[games[i]])\n",
    "        sack_frame = int(sackframe[games[i]])\n",
    "    except KeyError:\n",
    "        sack_frame = int(sackframe[games[i]])\n",
    "        \n",
    "    tot_frames = frames[ball_snap:sack_frame]\n",
    "    for j in range(len(tot_frames)): #up until QB was sacked (including)\n",
    "        X[count,:] = GetFieldStateFeatures(games[i],tot_frames[j],dat)[0]\n",
    "        Y[count] = ((int(sack_frame)-int(tot_frames[j]))*0.1)\n",
    "        \n",
    "        count += 1\n",
    "        \n",
    "#Shave off frames after the sack\n",
    "ishave = np.where(np.isnan(Y))[0][0]\n",
    "X,Y = X[:ishave],Y[:ishave]\n",
    "\n",
    "xt = torch.tensor(X)\n",
    "yt = torch.tensor(Y)\n",
    "trainset=torch.utils.data.TensorDataset(xt[:int(len(xt)*.9)],yt[:int(len(xt)*.9)])\n",
    "testset=torch.utils.data.TensorDataset(xt[int(len(xt)*.9):],yt[int(len(xt)*.9):])\n",
    "\n",
    "batch_size=64\n",
    "trainloader = torch.utils.data.DataLoader(trainset, batch_size=batch_size,shuffle=True, num_workers=0)\n",
    "testloader = torch.utils.data.DataLoader(testset, batch_size=batch_size,shuffle=True, num_workers=0)\n",
    "\n",
    "#Train the model\n",
    "criterion = nn.MSELoss()\n",
    "optimizer = optim.Adam(net.parameters(), lr=0.00001)#, momentum=0.95)\n",
    "testcor=[]\n",
    "traincor=[]\n",
    "for epoch in range(30):  # loop over the dataset multiple times\n",
    "    running_loss = 0.0\n",
    "    for i, data in enumerate(trainloader, 0):\n",
    "        inputs, labels = data\n",
    "        inputs=inputs.float()\n",
    "        labels=labels.float()\n",
    "        optimizer.zero_grad()\n",
    "        outputs = net(inputs).squeeze()\n",
    "        loss = criterion(outputs, labels)\n",
    "        loss.backward()\n",
    "        optimizer.step()\n",
    "        running_loss += loss.item()\n",
    "        if i % 1000 == 999:    # print every 2000 mini-batches\n",
    "            print('[%d, %5d] loss: %.3f' %\n",
    "                  (epoch + 1, i + 1, running_loss / 1000))\n",
    "            running_loss = 0.0\n",
    "    testerr=testerrv(net,testloader)\n",
    "print('Finished Training') #4.8 loss\n",
    "\n"
   ]
  },
  {
   "cell_type": "code",
   "execution_count": 25,
   "id": "ce31c21d",
   "metadata": {},
   "outputs": [
    {
     "name": "stderr",
     "output_type": "stream",
     "text": [
      "  1%|▌                                                                                                                  | 45/8555 [00:24<1:14:01,  1.92it/s]"
     ]
    },
    {
     "name": "stdout",
     "output_type": "stream",
     "text": [
      "2021090900-2298\n"
     ]
    },
    {
     "name": "stderr",
     "output_type": "stream",
     "text": [
      "\r",
      "  1%|▌                                                                                                                  | 46/8555 [00:24<1:14:17,  1.91it/s]"
     ]
    },
    {
     "name": "stdout",
     "output_type": "stream",
     "text": [
      "2021090900-2330\n"
     ]
    },
    {
     "name": "stderr",
     "output_type": "stream",
     "text": [
      "  1%|█▍                                                                                                                | 110/8555 [00:58<1:15:39,  1.86it/s]"
     ]
    },
    {
     "name": "stdout",
     "output_type": "stream",
     "text": [
      "2021091200-843\n"
     ]
    },
    {
     "name": "stderr",
     "output_type": "stream",
     "text": [
      "  2%|█▋                                                                                                                | 131/8555 [01:10<1:18:47,  1.78it/s]"
     ]
    },
    {
     "name": "stdout",
     "output_type": "stream",
     "text": [
      "2021091200-2063\n"
     ]
    },
    {
     "name": "stderr",
     "output_type": "stream",
     "text": [
      "  2%|█▊                                                                                                                | 133/8555 [01:11<1:20:04,  1.75it/s]"
     ]
    },
    {
     "name": "stdout",
     "output_type": "stream",
     "text": [
      "2021091200-2145\n"
     ]
    },
    {
     "name": "stderr",
     "output_type": "stream",
     "text": [
      "\r",
      "  2%|█▊                                                                                                                | 134/8555 [01:12<1:20:09,  1.75it/s]"
     ]
    },
    {
     "name": "stdout",
     "output_type": "stream",
     "text": [
      "2021091200-2214\n"
     ]
    },
    {
     "name": "stderr",
     "output_type": "stream",
     "text": [
      "  2%|██▏                                                                                                               | 164/8555 [01:28<1:15:43,  1.85it/s]"
     ]
    },
    {
     "name": "stdout",
     "output_type": "stream",
     "text": [
      "2021091200-4131\n"
     ]
    },
    {
     "name": "stderr",
     "output_type": "stream",
     "text": [
      "  2%|██▎                                                                                                               | 170/8555 [01:32<1:14:48,  1.87it/s]"
     ]
    },
    {
     "name": "stdout",
     "output_type": "stream",
     "text": [
      "2021091200-4367\n"
     ]
    },
    {
     "name": "stderr",
     "output_type": "stream",
     "text": [
      "  2%|██▎                                                                                                               | 174/8555 [01:34<1:16:04,  1.84it/s]"
     ]
    },
    {
     "name": "stdout",
     "output_type": "stream",
     "text": [
      "2021091201-345\n"
     ]
    },
    {
     "name": "stderr",
     "output_type": "stream",
     "text": [
      "  3%|███                                                                                                               | 227/8555 [02:03<1:17:22,  1.79it/s]"
     ]
    },
    {
     "name": "stdout",
     "output_type": "stream",
     "text": [
      "2021091201-2983\n"
     ]
    },
    {
     "name": "stderr",
     "output_type": "stream",
     "text": [
      "  3%|███▏                                                                                                              | 238/8555 [02:09<1:15:59,  1.82it/s]"
     ]
    },
    {
     "name": "stdout",
     "output_type": "stream",
     "text": [
      "2021091201-3756\n"
     ]
    },
    {
     "name": "stderr",
     "output_type": "stream",
     "text": [
      "  4%|████▏                                                                                                             | 312/8555 [02:52<1:15:48,  1.81it/s]"
     ]
    },
    {
     "name": "stdout",
     "output_type": "stream",
     "text": [
      "2021091202-3606\n"
     ]
    },
    {
     "name": "stderr",
     "output_type": "stream",
     "text": [
      "  5%|█████▊                                                                                                            | 432/8555 [04:00<1:14:17,  1.82it/s]"
     ]
    },
    {
     "name": "stdout",
     "output_type": "stream",
     "text": [
      "2021091204-1979\n"
     ]
    },
    {
     "name": "stderr",
     "output_type": "stream",
     "text": [
      "  5%|█████▉                                                                                                            | 442/8555 [04:06<1:14:41,  1.81it/s]"
     ]
    },
    {
     "name": "stdout",
     "output_type": "stream",
     "text": [
      "2021091204-2652\n"
     ]
    },
    {
     "name": "stderr",
     "output_type": "stream",
     "text": [
      "  6%|██████▎                                                                                                           | 476/8555 [04:24<1:13:41,  1.83it/s]"
     ]
    },
    {
     "name": "stdout",
     "output_type": "stream",
     "text": [
      "2021091204-4135\n"
     ]
    },
    {
     "name": "stderr",
     "output_type": "stream",
     "text": [
      "  6%|██████▍                                                                                                           | 486/8555 [04:30<1:14:24,  1.81it/s]"
     ]
    },
    {
     "name": "stdout",
     "output_type": "stream",
     "text": [
      "2021091204-4581\n"
     ]
    },
    {
     "name": "stderr",
     "output_type": "stream",
     "text": [
      "  6%|██████▌                                                                                                           | 494/8555 [04:34<1:14:27,  1.80it/s]"
     ]
    },
    {
     "name": "stdout",
     "output_type": "stream",
     "text": [
      "2021091205-404\n"
     ]
    },
    {
     "name": "stderr",
     "output_type": "stream",
     "text": [
      "  6%|██████▉                                                                                                           | 524/8555 [04:51<1:14:52,  1.79it/s]"
     ]
    },
    {
     "name": "stdout",
     "output_type": "stream",
     "text": [
      "2021091205-2097\n"
     ]
    },
    {
     "name": "stderr",
     "output_type": "stream",
     "text": [
      "  6%|███████▎                                                                                                          | 547/8555 [05:04<1:12:15,  1.85it/s]"
     ]
    },
    {
     "name": "stdout",
     "output_type": "stream",
     "text": [
      "2021091205-3548\n"
     ]
    },
    {
     "name": "stderr",
     "output_type": "stream",
     "text": [
      "  7%|███████▋                                                                                                          | 573/8555 [05:18<1:05:14,  2.04it/s]"
     ]
    },
    {
     "name": "stdout",
     "output_type": "stream",
     "text": [
      "2021091206-269\n"
     ]
    },
    {
     "name": "stderr",
     "output_type": "stream",
     "text": [
      "\r",
      "  7%|███████▋                                                                                                          | 574/8555 [05:19<1:06:19,  2.01it/s]"
     ]
    },
    {
     "name": "stdout",
     "output_type": "stream",
     "text": [
      "2021091206-439\n"
     ]
    },
    {
     "name": "stderr",
     "output_type": "stream",
     "text": [
      "\r",
      "  7%|███████▋                                                                                                          | 575/8555 [05:19<1:07:57,  1.96it/s]"
     ]
    },
    {
     "name": "stdout",
     "output_type": "stream",
     "text": [
      "2021091206-506\n"
     ]
    },
    {
     "name": "stderr",
     "output_type": "stream",
     "text": [
      "  7%|███████▊                                                                                                          | 588/8555 [05:25<1:05:07,  2.04it/s]"
     ]
    },
    {
     "name": "stdout",
     "output_type": "stream",
     "text": [
      "2021091206-1296\n"
     ]
    },
    {
     "name": "stderr",
     "output_type": "stream",
     "text": [
      "  7%|████████                                                                                                          | 603/8555 [05:32<1:06:10,  2.00it/s]"
     ]
    },
    {
     "name": "stdout",
     "output_type": "stream",
     "text": [
      "2021091206-2210\n"
     ]
    },
    {
     "name": "stderr",
     "output_type": "stream",
     "text": [
      "  7%|████████▎                                                                                                         | 622/8555 [05:42<1:07:36,  1.96it/s]"
     ]
    },
    {
     "name": "stdout",
     "output_type": "stream",
     "text": [
      "2021091206-3311\n"
     ]
    },
    {
     "name": "stderr",
     "output_type": "stream",
     "text": [
      "  7%|████████▍                                                                                                         | 629/8555 [05:46<1:08:12,  1.94it/s]"
     ]
    },
    {
     "name": "stdout",
     "output_type": "stream",
     "text": [
      "2021091206-3761\n"
     ]
    },
    {
     "name": "stderr",
     "output_type": "stream",
     "text": [
      "  8%|████████▋                                                                                                         | 656/8555 [05:59<1:07:22,  1.95it/s]"
     ]
    },
    {
     "name": "stdout",
     "output_type": "stream",
     "text": [
      "2021091207-1650\n"
     ]
    },
    {
     "name": "stderr",
     "output_type": "stream",
     "text": [
      "  8%|████████▊                                                                                                         | 660/8555 [06:01<1:06:37,  1.98it/s]"
     ]
    },
    {
     "name": "stdout",
     "output_type": "stream",
     "text": [
      "2021091207-1792\n"
     ]
    },
    {
     "name": "stderr",
     "output_type": "stream",
     "text": [
      "  8%|████████▊                                                                                                         | 664/8555 [06:03<1:06:30,  1.98it/s]"
     ]
    },
    {
     "name": "stdout",
     "output_type": "stream",
     "text": [
      "2021091207-2074\n"
     ]
    },
    {
     "name": "stderr",
     "output_type": "stream",
     "text": [
      "  8%|█████████▍                                                                                                        | 709/8555 [06:27<1:08:33,  1.91it/s]"
     ]
    },
    {
     "name": "stdout",
     "output_type": "stream",
     "text": [
      "2021091208-649\n"
     ]
    },
    {
     "name": "stderr",
     "output_type": "stream",
     "text": [
      "  9%|█████████▊                                                                                                        | 739/8555 [06:42<1:08:16,  1.91it/s]"
     ]
    },
    {
     "name": "stdout",
     "output_type": "stream",
     "text": [
      "2021091208-2219\n"
     ]
    },
    {
     "name": "stderr",
     "output_type": "stream",
     "text": [
      "\r",
      "  9%|█████████▊                                                                                                        | 740/8555 [06:43<1:07:51,  1.92it/s]"
     ]
    },
    {
     "name": "stdout",
     "output_type": "stream",
     "text": [
      "2021091208-2322\n"
     ]
    },
    {
     "name": "stderr",
     "output_type": "stream",
     "text": [
      "  9%|██████████▏                                                                                                       | 763/8555 [06:55<1:07:28,  1.92it/s]"
     ]
    },
    {
     "name": "stdout",
     "output_type": "stream",
     "text": [
      "2021091208-3874\n"
     ]
    },
    {
     "name": "stderr",
     "output_type": "stream",
     "text": [
      "  9%|██████████▌                                                                                                       | 795/8555 [07:12<1:06:28,  1.95it/s]"
     ]
    },
    {
     "name": "stdout",
     "output_type": "stream",
     "text": [
      "2021091209-1295\n"
     ]
    },
    {
     "name": "stderr",
     "output_type": "stream",
     "text": [
      "  9%|██████████▊                                                                                                       | 812/8555 [07:20<1:06:49,  1.93it/s]"
     ]
    },
    {
     "name": "stdout",
     "output_type": "stream",
     "text": [
      "2021091209-2293\n"
     ]
    },
    {
     "name": "stderr",
     "output_type": "stream",
     "text": [
      " 10%|██████████▊                                                                                                       | 814/8555 [07:21<1:06:55,  1.93it/s]"
     ]
    },
    {
     "name": "stdout",
     "output_type": "stream",
     "text": [
      "2021091209-2364\n"
     ]
    },
    {
     "name": "stderr",
     "output_type": "stream",
     "text": [
      " 10%|███████████▉                                                                                                      | 897/8555 [08:05<1:05:29,  1.95it/s]"
     ]
    },
    {
     "name": "stdout",
     "output_type": "stream",
     "text": [
      "2021091211-100\n"
     ]
    },
    {
     "name": "stderr",
     "output_type": "stream",
     "text": [
      "\r",
      " 10%|███████████▉                                                                                                      | 898/8555 [08:05<1:08:15,  1.87it/s]"
     ]
    },
    {
     "name": "stdout",
     "output_type": "stream",
     "text": [
      "2021091211-142\n"
     ]
    },
    {
     "name": "stderr",
     "output_type": "stream",
     "text": [
      " 11%|████████████                                                                                                      | 908/8555 [08:10<1:05:35,  1.94it/s]"
     ]
    },
    {
     "name": "stdout",
     "output_type": "stream",
     "text": [
      "2021091211-640\n"
     ]
    },
    {
     "name": "stderr",
     "output_type": "stream",
     "text": [
      " 11%|████████████▊                                                                                                     | 957/8555 [08:36<1:05:23,  1.94it/s]"
     ]
    },
    {
     "name": "stdout",
     "output_type": "stream",
     "text": [
      "2021091212-788\n"
     ]
    },
    {
     "name": "stderr",
     "output_type": "stream",
     "text": [
      " 11%|████████████▉                                                                                                     | 967/8555 [08:41<1:05:20,  1.94it/s]"
     ]
    },
    {
     "name": "stdout",
     "output_type": "stream",
     "text": [
      "2021091212-1239\n"
     ]
    },
    {
     "name": "stderr",
     "output_type": "stream",
     "text": [
      " 12%|█████████████▏                                                                                                    | 991/8555 [08:54<1:05:10,  1.93it/s]"
     ]
    },
    {
     "name": "stdout",
     "output_type": "stream",
     "text": [
      "2021091212-2474\n"
     ]
    },
    {
     "name": "stderr",
     "output_type": "stream",
     "text": [
      " 12%|█████████████▎                                                                                                    | 996/8555 [08:56<1:05:55,  1.91it/s]"
     ]
    },
    {
     "name": "stdout",
     "output_type": "stream",
     "text": [
      "2021091212-2804\n"
     ]
    },
    {
     "name": "stderr",
     "output_type": "stream",
     "text": [
      "\r",
      " 12%|█████████████▎                                                                                                    | 997/8555 [08:57<1:05:30,  1.92it/s]"
     ]
    },
    {
     "name": "stdout",
     "output_type": "stream",
     "text": [
      "2021091212-2857\n"
     ]
    },
    {
     "name": "stderr",
     "output_type": "stream",
     "text": [
      " 12%|█████████████▎                                                                                                    | 999/8555 [08:58<1:04:59,  1.94it/s]"
     ]
    },
    {
     "name": "stdout",
     "output_type": "stream",
     "text": [
      "2021091212-2905\n"
     ]
    },
    {
     "name": "stderr",
     "output_type": "stream",
     "text": [
      " 12%|█████████████▊                                                                                                   | 1046/8555 [09:22<1:04:23,  1.94it/s]"
     ]
    },
    {
     "name": "stdout",
     "output_type": "stream",
     "text": [
      "2021091213-1616\n"
     ]
    },
    {
     "name": "stderr",
     "output_type": "stream",
     "text": [
      " 12%|██████████████                                                                                                   | 1065/8555 [09:32<1:05:14,  1.91it/s]"
     ]
    },
    {
     "name": "stdout",
     "output_type": "stream",
     "text": [
      "2021091213-2757\n"
     ]
    },
    {
     "name": "stderr",
     "output_type": "stream",
     "text": [
      " 13%|██████████████▎                                                                                                  | 1083/8555 [09:41<1:04:54,  1.92it/s]"
     ]
    },
    {
     "name": "stdout",
     "output_type": "stream",
     "text": [
      "2021091300-148\n"
     ]
    },
    {
     "name": "stderr",
     "output_type": "stream",
     "text": [
      " 13%|██████████████▎                                                                                                  | 1087/8555 [09:43<1:05:00,  1.91it/s]"
     ]
    },
    {
     "name": "stdout",
     "output_type": "stream",
     "text": [
      "2021091300-356\n"
     ]
    },
    {
     "name": "stderr",
     "output_type": "stream",
     "text": [
      " 13%|██████████████▍                                                                                                  | 1089/8555 [09:45<1:04:18,  1.93it/s]"
     ]
    },
    {
     "name": "stdout",
     "output_type": "stream",
     "text": [
      "2021091300-407\n"
     ]
    },
    {
     "name": "stderr",
     "output_type": "stream",
     "text": [
      " 13%|██████████████▉                                                                                                  | 1131/8555 [10:07<1:11:33,  1.73it/s]"
     ]
    },
    {
     "name": "stdout",
     "output_type": "stream",
     "text": [
      "2021091300-2526\n"
     ]
    },
    {
     "name": "stderr",
     "output_type": "stream",
     "text": [
      " 13%|███████████████▏                                                                                                 | 1146/8555 [10:15<1:09:30,  1.78it/s]"
     ]
    },
    {
     "name": "stdout",
     "output_type": "stream",
     "text": [
      "2021091300-3256\n"
     ]
    },
    {
     "name": "stderr",
     "output_type": "stream",
     "text": [
      " 14%|███████████████▎                                                                                                 | 1160/8555 [10:23<1:07:47,  1.82it/s]"
     ]
    },
    {
     "name": "stdout",
     "output_type": "stream",
     "text": [
      "2021091300-3980\n"
     ]
    },
    {
     "name": "stderr",
     "output_type": "stream",
     "text": [
      "\r",
      " 14%|███████████████▎                                                                                                 | 1161/8555 [10:24<1:07:13,  1.83it/s]"
     ]
    },
    {
     "name": "stdout",
     "output_type": "stream",
     "text": [
      "2021091300-4094\n"
     ]
    },
    {
     "name": "stderr",
     "output_type": "stream",
     "text": [
      " 14%|███████████████▌                                                                                                 | 1178/8555 [10:33<1:08:01,  1.81it/s]"
     ]
    },
    {
     "name": "stdout",
     "output_type": "stream",
     "text": [
      "2021091600-235\n"
     ]
    },
    {
     "name": "stderr",
     "output_type": "stream",
     "text": [
      "\r",
      " 14%|███████████████▌                                                                                                 | 1179/8555 [10:34<1:07:20,  1.83it/s]"
     ]
    },
    {
     "name": "stdout",
     "output_type": "stream",
     "text": [
      "2021091600-261\n"
     ]
    },
    {
     "name": "stderr",
     "output_type": "stream",
     "text": [
      " 14%|███████████████▉                                                                                                 | 1207/8555 [10:49<1:06:58,  1.83it/s]"
     ]
    },
    {
     "name": "stdout",
     "output_type": "stream",
     "text": [
      "2021091600-1991\n"
     ]
    },
    {
     "name": "stderr",
     "output_type": "stream",
     "text": [
      " 14%|████████████████▏                                                                                                | 1225/8555 [10:59<1:05:48,  1.86it/s]"
     ]
    },
    {
     "name": "stdout",
     "output_type": "stream",
     "text": [
      "2021091600-3001\n"
     ]
    },
    {
     "name": "stderr",
     "output_type": "stream",
     "text": [
      " 14%|████████████████▎                                                                                                | 1232/8555 [11:03<1:04:32,  1.89it/s]"
     ]
    },
    {
     "name": "stdout",
     "output_type": "stream",
     "text": [
      "2021091600-3392\n"
     ]
    },
    {
     "name": "stderr",
     "output_type": "stream",
     "text": [
      " 14%|████████████████▎                                                                                                | 1238/8555 [11:06<1:04:00,  1.91it/s]"
     ]
    },
    {
     "name": "stdout",
     "output_type": "stream",
     "text": [
      "2021091600-3743\n"
     ]
    },
    {
     "name": "stderr",
     "output_type": "stream",
     "text": [
      " 15%|████████████████▉                                                                                                | 1287/8555 [11:31<1:04:03,  1.89it/s]"
     ]
    },
    {
     "name": "stdout",
     "output_type": "stream",
     "text": [
      "2021091900-1850\n"
     ]
    },
    {
     "name": "stderr",
     "output_type": "stream",
     "text": [
      " 15%|█████████████████                                                                                                | 1296/8555 [11:36<1:04:30,  1.88it/s]"
     ]
    },
    {
     "name": "stdout",
     "output_type": "stream",
     "text": [
      "2021091900-2467\n"
     ]
    },
    {
     "name": "stderr",
     "output_type": "stream",
     "text": [
      " 15%|█████████████████▏                                                                                               | 1299/8555 [11:38<1:04:34,  1.87it/s]"
     ]
    },
    {
     "name": "stdout",
     "output_type": "stream",
     "text": [
      "2021091900-2784\n"
     ]
    },
    {
     "name": "stderr",
     "output_type": "stream",
     "text": [
      " 15%|█████████████████▏                                                                                               | 1301/8555 [11:39<1:03:18,  1.91it/s]"
     ]
    },
    {
     "name": "stdout",
     "output_type": "stream",
     "text": [
      "2021091900-2879\n"
     ]
    },
    {
     "name": "stderr",
     "output_type": "stream",
     "text": [
      " 16%|█████████████████▋                                                                                               | 1338/8555 [11:59<1:04:09,  1.87it/s]"
     ]
    },
    {
     "name": "stdout",
     "output_type": "stream",
     "text": [
      "2021091901-988\n"
     ]
    },
    {
     "name": "stderr",
     "output_type": "stream",
     "text": [
      "\r",
      " 16%|█████████████████▋                                                                                               | 1339/8555 [11:59<1:03:57,  1.88it/s]"
     ]
    },
    {
     "name": "stdout",
     "output_type": "stream",
     "text": [
      "2021091901-1059\n"
     ]
    },
    {
     "name": "stderr",
     "output_type": "stream",
     "text": [
      " 16%|█████████████████▊                                                                                               | 1350/8555 [12:05<1:03:23,  1.89it/s]"
     ]
    },
    {
     "name": "stdout",
     "output_type": "stream",
     "text": [
      "2021091901-1741\n"
     ]
    },
    {
     "name": "stderr",
     "output_type": "stream",
     "text": [
      " 16%|██████████████████                                                                                               | 1363/8555 [12:12<1:04:48,  1.85it/s]"
     ]
    },
    {
     "name": "stdout",
     "output_type": "stream",
     "text": [
      "2021091901-2488\n"
     ]
    },
    {
     "name": "stderr",
     "output_type": "stream",
     "text": [
      " 16%|██████████████████                                                                                               | 1368/8555 [12:15<1:04:57,  1.84it/s]"
     ]
    },
    {
     "name": "stdout",
     "output_type": "stream",
     "text": [
      "2021091901-2764\n"
     ]
    },
    {
     "name": "stderr",
     "output_type": "stream",
     "text": [
      " 16%|██████████████████▍                                                                                              | 1396/8555 [12:30<1:01:16,  1.95it/s]"
     ]
    },
    {
     "name": "stdout",
     "output_type": "stream",
     "text": [
      "2021091902-1029\n"
     ]
    },
    {
     "name": "stderr",
     "output_type": "stream",
     "text": [
      " 16%|██████████████████▌                                                                                              | 1406/8555 [12:35<1:01:58,  1.92it/s]"
     ]
    },
    {
     "name": "stdout",
     "output_type": "stream",
     "text": [
      "2021091902-1619\n"
     ]
    },
    {
     "name": "stderr",
     "output_type": "stream",
     "text": [
      " 17%|██████████████████▋                                                                                              | 1414/8555 [12:39<1:02:09,  1.91it/s]"
     ]
    },
    {
     "name": "stdout",
     "output_type": "stream",
     "text": [
      "2021091902-2492\n"
     ]
    },
    {
     "name": "stderr",
     "output_type": "stream",
     "text": [
      " 17%|██████████████████▊                                                                                              | 1423/8555 [12:44<1:09:57,  1.70it/s]"
     ]
    },
    {
     "name": "stdout",
     "output_type": "stream",
     "text": [
      "2021091902-3163\n"
     ]
    },
    {
     "name": "stderr",
     "output_type": "stream",
     "text": [
      "\r",
      " 17%|██████████████████▊                                                                                              | 1424/8555 [12:45<1:08:13,  1.74it/s]"
     ]
    },
    {
     "name": "stdout",
     "output_type": "stream",
     "text": [
      "2021091902-3293\n"
     ]
    },
    {
     "name": "stderr",
     "output_type": "stream",
     "text": [
      " 17%|██████████████████▉                                                                                              | 1435/8555 [12:51<1:02:12,  1.91it/s]"
     ]
    },
    {
     "name": "stdout",
     "output_type": "stream",
     "text": [
      "2021091902-3820\n"
     ]
    },
    {
     "name": "stderr",
     "output_type": "stream",
     "text": [
      " 17%|███████████████████▏                                                                                             | 1456/8555 [13:02<1:02:18,  1.90it/s]"
     ]
    },
    {
     "name": "stdout",
     "output_type": "stream",
     "text": [
      "2021091903-1170\n"
     ]
    },
    {
     "name": "stderr",
     "output_type": "stream",
     "text": [
      " 17%|███████████████████▎                                                                                             | 1463/8555 [13:06<1:03:07,  1.87it/s]"
     ]
    },
    {
     "name": "stdout",
     "output_type": "stream",
     "text": [
      "2021091903-1494\n"
     ]
    },
    {
     "name": "stderr",
     "output_type": "stream",
     "text": [
      " 17%|███████████████████▍                                                                                             | 1473/8555 [13:11<1:03:52,  1.85it/s]"
     ]
    },
    {
     "name": "stdout",
     "output_type": "stream",
     "text": [
      "2021091903-2050\n"
     ]
    },
    {
     "name": "stderr",
     "output_type": "stream",
     "text": [
      " 17%|███████████████████▍                                                                                             | 1476/8555 [13:13<1:02:55,  1.87it/s]"
     ]
    },
    {
     "name": "stdout",
     "output_type": "stream",
     "text": [
      "2021091903-2194\n"
     ]
    },
    {
     "name": "stderr",
     "output_type": "stream",
     "text": [
      "\r",
      " 17%|███████████████████▌                                                                                             | 1477/8555 [13:13<1:02:31,  1.89it/s]"
     ]
    },
    {
     "name": "stdout",
     "output_type": "stream",
     "text": [
      "2021091903-2276\n"
     ]
    },
    {
     "name": "stderr",
     "output_type": "stream",
     "text": [
      " 17%|███████████████████▌                                                                                             | 1485/8555 [13:17<1:02:56,  1.87it/s]"
     ]
    },
    {
     "name": "stdout",
     "output_type": "stream",
     "text": [
      "2021091903-2531\n"
     ]
    },
    {
     "name": "stderr",
     "output_type": "stream",
     "text": [
      " 18%|████████████████████▎                                                                                            | 1534/8555 [13:43<1:01:17,  1.91it/s]"
     ]
    },
    {
     "name": "stdout",
     "output_type": "stream",
     "text": [
      "2021091904-1614\n"
     ]
    },
    {
     "name": "stderr",
     "output_type": "stream",
     "text": [
      " 18%|████████████████████▎                                                                                            | 1539/8555 [13:46<1:05:30,  1.79it/s]"
     ]
    },
    {
     "name": "stdout",
     "output_type": "stream",
     "text": [
      "2021091904-1816\n"
     ]
    },
    {
     "name": "stderr",
     "output_type": "stream",
     "text": [
      " 18%|████████████████████▌                                                                                            | 1555/8555 [13:55<1:02:44,  1.86it/s]"
     ]
    },
    {
     "name": "stdout",
     "output_type": "stream",
     "text": [
      "2021091904-2640\n"
     ]
    },
    {
     "name": "stderr",
     "output_type": "stream",
     "text": [
      " 18%|████████████████████▋                                                                                            | 1563/8555 [13:59<1:02:10,  1.87it/s]"
     ]
    },
    {
     "name": "stdout",
     "output_type": "stream",
     "text": [
      "2021091904-3071\n"
     ]
    },
    {
     "name": "stderr",
     "output_type": "stream",
     "text": [
      " 18%|████████████████████▊                                                                                            | 1577/8555 [14:06<1:01:33,  1.89it/s]"
     ]
    },
    {
     "name": "stdout",
     "output_type": "stream",
     "text": [
      "2021091905-427\n"
     ]
    },
    {
     "name": "stderr",
     "output_type": "stream",
     "text": [
      " 19%|████████████████████▉                                                                                            | 1589/8555 [14:13<1:01:08,  1.90it/s]"
     ]
    },
    {
     "name": "stdout",
     "output_type": "stream",
     "text": [
      "2021091905-1102\n"
     ]
    },
    {
     "name": "stderr",
     "output_type": "stream",
     "text": [
      " 19%|█████████████████████▏                                                                                           | 1601/8555 [14:19<1:02:15,  1.86it/s]"
     ]
    },
    {
     "name": "stdout",
     "output_type": "stream",
     "text": [
      "2021091905-1730\n"
     ]
    },
    {
     "name": "stderr",
     "output_type": "stream",
     "text": [
      " 19%|█████████████████████▏                                                                                           | 1606/8555 [14:22<1:00:40,  1.91it/s]"
     ]
    },
    {
     "name": "stdout",
     "output_type": "stream",
     "text": [
      "2021091905-1889\n"
     ]
    },
    {
     "name": "stderr",
     "output_type": "stream",
     "text": [
      " 19%|█████████████████████▍                                                                                           | 1623/8555 [14:31<1:00:19,  1.92it/s]"
     ]
    },
    {
     "name": "stdout",
     "output_type": "stream",
     "text": [
      "2021091905-2891\n"
     ]
    },
    {
     "name": "stderr",
     "output_type": "stream",
     "text": [
      " 19%|█████████████████████▋                                                                                           | 1640/8555 [14:40<1:01:19,  1.88it/s]"
     ]
    },
    {
     "name": "stdout",
     "output_type": "stream",
     "text": [
      "2021091905-3779\n"
     ]
    },
    {
     "name": "stderr",
     "output_type": "stream",
     "text": [
      " 20%|██████████████████████                                                                                           | 1671/8555 [14:56<1:00:19,  1.90it/s]"
     ]
    },
    {
     "name": "stdout",
     "output_type": "stream",
     "text": [
      "2021091906-1989\n"
     ]
    },
    {
     "name": "stderr",
     "output_type": "stream",
     "text": [
      " 20%|██████████████████████                                                                                           | 1675/8555 [14:58<1:01:11,  1.87it/s]"
     ]
    },
    {
     "name": "stdout",
     "output_type": "stream",
     "text": [
      "2021091906-2272\n"
     ]
    },
    {
     "name": "stderr",
     "output_type": "stream",
     "text": [
      " 20%|██████████████████████▍                                                                                          | 1697/8555 [15:10<1:01:28,  1.86it/s]"
     ]
    },
    {
     "name": "stdout",
     "output_type": "stream",
     "text": [
      "2021091906-3336\n"
     ]
    },
    {
     "name": "stderr",
     "output_type": "stream",
     "text": [
      " 20%|███████████████████████▏                                                                                           | 1722/8555 [15:24<59:54,  1.90it/s]"
     ]
    },
    {
     "name": "stdout",
     "output_type": "stream",
     "text": [
      "2021091907-843\n"
     ]
    },
    {
     "name": "stderr",
     "output_type": "stream",
     "text": [
      " 20%|███████████████████████▎                                                                                           | 1736/8555 [15:31<59:10,  1.92it/s]"
     ]
    },
    {
     "name": "stdout",
     "output_type": "stream",
     "text": [
      "2021091907-1836\n"
     ]
    },
    {
     "name": "stderr",
     "output_type": "stream",
     "text": [
      "\r",
      " 20%|███████████████████████▎                                                                                           | 1737/8555 [15:31<56:45,  2.00it/s]"
     ]
    },
    {
     "name": "stdout",
     "output_type": "stream",
     "text": [
      "2021091907-1857\n"
     ]
    },
    {
     "name": "stderr",
     "output_type": "stream",
     "text": [
      " 20%|███████████████████████▍                                                                                           | 1743/8555 [15:35<58:16,  1.95it/s]"
     ]
    },
    {
     "name": "stdout",
     "output_type": "stream",
     "text": [
      "2021091907-2273\n"
     ]
    },
    {
     "name": "stderr",
     "output_type": "stream",
     "text": [
      " 20%|███████████████████████▍                                                                                           | 1745/8555 [15:36<58:46,  1.93it/s]"
     ]
    },
    {
     "name": "stdout",
     "output_type": "stream",
     "text": [
      "2021091907-2459\n"
     ]
    },
    {
     "name": "stderr",
     "output_type": "stream",
     "text": [
      " 20%|███████████████████████▏                                                                                         | 1752/8555 [15:39<1:01:09,  1.85it/s]"
     ]
    },
    {
     "name": "stdout",
     "output_type": "stream",
     "text": [
      "2021091907-2890\n"
     ]
    },
    {
     "name": "stderr",
     "output_type": "stream",
     "text": [
      " 21%|███████████████████████▏                                                                                         | 1756/8555 [15:41<1:00:21,  1.88it/s]"
     ]
    },
    {
     "name": "stdout",
     "output_type": "stream",
     "text": [
      "2021091907-3224\n"
     ]
    },
    {
     "name": "stderr",
     "output_type": "stream",
     "text": [
      " 21%|███████████████████████▏                                                                                         | 1759/8555 [15:43<1:01:17,  1.85it/s]"
     ]
    },
    {
     "name": "stdout",
     "output_type": "stream",
     "text": [
      "2021091907-3627\n"
     ]
    },
    {
     "name": "stderr",
     "output_type": "stream",
     "text": [
      "\r",
      " 21%|███████████████████████▏                                                                                         | 1760/8555 [15:44<1:01:11,  1.85it/s]"
     ]
    },
    {
     "name": "stdout",
     "output_type": "stream",
     "text": [
      "2021091907-3653\n"
     ]
    },
    {
     "name": "stderr",
     "output_type": "stream",
     "text": [
      " 21%|███████████████████████▌                                                                                         | 1782/8555 [15:55<1:01:00,  1.85it/s]"
     ]
    },
    {
     "name": "stdout",
     "output_type": "stream",
     "text": [
      "2021091908-1028\n"
     ]
    },
    {
     "name": "stderr",
     "output_type": "stream",
     "text": [
      " 22%|████████████████████████▊                                                                                          | 1843/8555 [16:28<59:25,  1.88it/s]"
     ]
    },
    {
     "name": "stdout",
     "output_type": "stream",
     "text": [
      "2021091909-569\n"
     ]
    },
    {
     "name": "stderr",
     "output_type": "stream",
     "text": [
      " 22%|████████████████████████▍                                                                                        | 1847/8555 [16:30<1:00:56,  1.83it/s]"
     ]
    },
    {
     "name": "stdout",
     "output_type": "stream",
     "text": [
      "2021091909-802\n"
     ]
    },
    {
     "name": "stderr",
     "output_type": "stream",
     "text": [
      " 22%|████████████████████████▍                                                                                        | 1849/8555 [16:32<1:00:10,  1.86it/s]"
     ]
    },
    {
     "name": "stdout",
     "output_type": "stream",
     "text": [
      "2021091909-1175\n"
     ]
    },
    {
     "name": "stderr",
     "output_type": "stream",
     "text": [
      " 22%|█████████████████████████▏                                                                                         | 1876/8555 [16:46<58:58,  1.89it/s]"
     ]
    },
    {
     "name": "stdout",
     "output_type": "stream",
     "text": [
      "2021091909-3273\n"
     ]
    },
    {
     "name": "stderr",
     "output_type": "stream",
     "text": [
      " 22%|█████████████████████████▎                                                                                         | 1882/8555 [16:49<59:27,  1.87it/s]"
     ]
    },
    {
     "name": "stdout",
     "output_type": "stream",
     "text": [
      "2021091909-3565\n"
     ]
    },
    {
     "name": "stderr",
     "output_type": "stream",
     "text": [
      " 22%|█████████████████████████▋                                                                                         | 1914/8555 [17:06<58:32,  1.89it/s]"
     ]
    },
    {
     "name": "stdout",
     "output_type": "stream",
     "text": [
      "2021091910-848\n"
     ]
    },
    {
     "name": "stderr",
     "output_type": "stream",
     "text": [
      " 23%|██████████████████████████▏                                                                                        | 1944/8555 [17:22<58:01,  1.90it/s]"
     ]
    },
    {
     "name": "stdout",
     "output_type": "stream",
     "text": [
      "2021091910-2359\n"
     ]
    },
    {
     "name": "stderr",
     "output_type": "stream",
     "text": [
      " 24%|███████████████████████████                                                                                        | 2012/8555 [17:59<57:35,  1.89it/s]"
     ]
    },
    {
     "name": "stdout",
     "output_type": "stream",
     "text": [
      "2021091911-1972\n"
     ]
    },
    {
     "name": "stderr",
     "output_type": "stream",
     "text": [
      " 24%|███████████████████████████▍                                                                                       | 2040/8555 [18:14<59:08,  1.84it/s]"
     ]
    },
    {
     "name": "stdout",
     "output_type": "stream",
     "text": [
      "2021091911-3554\n"
     ]
    },
    {
     "name": "stderr",
     "output_type": "stream",
     "text": [
      " 24%|███████████████████████████▌                                                                                       | 2051/8555 [18:20<57:16,  1.89it/s]"
     ]
    },
    {
     "name": "stdout",
     "output_type": "stream",
     "text": [
      "2021091912-110\n"
     ]
    },
    {
     "name": "stderr",
     "output_type": "stream",
     "text": [
      " 24%|███████████████████████████▊                                                                                       | 2070/8555 [18:30<58:31,  1.85it/s]"
     ]
    },
    {
     "name": "stdout",
     "output_type": "stream",
     "text": [
      "2021091912-1171\n"
     ]
    },
    {
     "name": "stderr",
     "output_type": "stream",
     "text": [
      " 24%|███████████████████████████▉                                                                                       | 2079/8555 [18:35<58:18,  1.85it/s]"
     ]
    },
    {
     "name": "stdout",
     "output_type": "stream",
     "text": [
      "2021091912-1868\n"
     ]
    },
    {
     "name": "stderr",
     "output_type": "stream",
     "text": [
      " 25%|████████████████████████████▎                                                                                      | 2103/8555 [18:48<57:08,  1.88it/s]"
     ]
    },
    {
     "name": "stdout",
     "output_type": "stream",
     "text": [
      "2021091912-3422\n"
     ]
    },
    {
     "name": "stderr",
     "output_type": "stream",
     "text": [
      " 25%|████████████████████████████▍                                                                                      | 2118/8555 [18:56<57:11,  1.88it/s]"
     ]
    },
    {
     "name": "stdout",
     "output_type": "stream",
     "text": [
      "2021091912-4213\n"
     ]
    },
    {
     "name": "stderr",
     "output_type": "stream",
     "text": [
      " 25%|█████████████████████████████                                                                                      | 2160/8555 [19:18<57:21,  1.86it/s]"
     ]
    },
    {
     "name": "stdout",
     "output_type": "stream",
     "text": [
      "2021091913-2561\n"
     ]
    },
    {
     "name": "stderr",
     "output_type": "stream",
     "text": [
      " 25%|█████████████████████████████▏                                                                                     | 2167/8555 [19:22<57:34,  1.85it/s]"
     ]
    },
    {
     "name": "stdout",
     "output_type": "stream",
     "text": [
      "2021091913-2960\n"
     ]
    },
    {
     "name": "stderr",
     "output_type": "stream",
     "text": [
      " 26%|█████████████████████████████▍                                                                                     | 2187/8555 [19:33<56:14,  1.89it/s]"
     ]
    },
    {
     "name": "stdout",
     "output_type": "stream",
     "text": [
      "2021092000-354\n"
     ]
    },
    {
     "name": "stderr",
     "output_type": "stream",
     "text": [
      " 26%|█████████████████████████████▌                                                                                     | 2196/8555 [19:38<56:41,  1.87it/s]"
     ]
    },
    {
     "name": "stdout",
     "output_type": "stream",
     "text": [
      "2021092000-1073\n"
     ]
    },
    {
     "name": "stderr",
     "output_type": "stream",
     "text": [
      " 26%|█████████████████████████████▊                                                                                     | 2220/8555 [19:51<56:45,  1.86it/s]"
     ]
    },
    {
     "name": "stdout",
     "output_type": "stream",
     "text": [
      "2021092000-2587\n"
     ]
    },
    {
     "name": "stderr",
     "output_type": "stream",
     "text": [
      " 26%|█████████████████████████████▉                                                                                     | 2231/8555 [19:57<57:17,  1.84it/s]"
     ]
    },
    {
     "name": "stdout",
     "output_type": "stream",
     "text": [
      "2021092000-3365\n"
     ]
    },
    {
     "name": "stderr",
     "output_type": "stream",
     "text": [
      " 26%|██████████████████████████████▏                                                                                    | 2250/8555 [20:07<56:05,  1.87it/s]"
     ]
    },
    {
     "name": "stdout",
     "output_type": "stream",
     "text": [
      "2021092300-620\n"
     ]
    },
    {
     "name": "stderr",
     "output_type": "stream",
     "text": [
      " 27%|██████████████████████████████▋                                                                                    | 2283/8555 [20:24<55:04,  1.90it/s]"
     ]
    },
    {
     "name": "stdout",
     "output_type": "stream",
     "text": [
      "2021092300-2422\n"
     ]
    },
    {
     "name": "stderr",
     "output_type": "stream",
     "text": [
      " 27%|██████████████████████████████▋                                                                                    | 2287/8555 [20:26<55:43,  1.87it/s]"
     ]
    },
    {
     "name": "stdout",
     "output_type": "stream",
     "text": [
      "2021092300-2713\n"
     ]
    },
    {
     "name": "stderr",
     "output_type": "stream",
     "text": [
      " 27%|███████████████████████████████▍                                                                                   | 2336/8555 [20:52<53:54,  1.92it/s]"
     ]
    },
    {
     "name": "stdout",
     "output_type": "stream",
     "text": [
      "2021092600-1440\n"
     ]
    },
    {
     "name": "stderr",
     "output_type": "stream",
     "text": [
      " 27%|███████████████████████████████▍                                                                                   | 2340/8555 [20:54<54:17,  1.91it/s]"
     ]
    },
    {
     "name": "stdout",
     "output_type": "stream",
     "text": [
      "2021092600-1636\n"
     ]
    },
    {
     "name": "stderr",
     "output_type": "stream",
     "text": [
      " 28%|███████████████████████████████▊                                                                                   | 2365/8555 [21:07<53:48,  1.92it/s]"
     ]
    },
    {
     "name": "stdout",
     "output_type": "stream",
     "text": [
      "2021092600-3245\n"
     ]
    },
    {
     "name": "stderr",
     "output_type": "stream",
     "text": [
      " 28%|███████████████████████████████▊                                                                                   | 2371/8555 [21:10<53:32,  1.93it/s]"
     ]
    },
    {
     "name": "stdout",
     "output_type": "stream",
     "text": [
      "2021092600-3495\n"
     ]
    },
    {
     "name": "stderr",
     "output_type": "stream",
     "text": [
      " 28%|███████████████████████████████▉                                                                                   | 2373/8555 [21:12<53:54,  1.91it/s]"
     ]
    },
    {
     "name": "stdout",
     "output_type": "stream",
     "text": [
      "2021092600-3544\n"
     ]
    },
    {
     "name": "stderr",
     "output_type": "stream",
     "text": [
      " 28%|███████████████████████████████▉                                                                                   | 2375/8555 [21:13<53:42,  1.92it/s]"
     ]
    },
    {
     "name": "stdout",
     "output_type": "stream",
     "text": [
      "2021092600-3639\n"
     ]
    },
    {
     "name": "stderr",
     "output_type": "stream",
     "text": [
      " 28%|███████████████████████████████▉                                                                                   | 2380/8555 [21:15<52:13,  1.97it/s]"
     ]
    },
    {
     "name": "stdout",
     "output_type": "stream",
     "text": [
      "2021092600-3942\n"
     ]
    },
    {
     "name": "stderr",
     "output_type": "stream",
     "text": [
      " 28%|████████████████████████████████                                                                                   | 2383/8555 [21:17<52:34,  1.96it/s]"
     ]
    },
    {
     "name": "stdout",
     "output_type": "stream",
     "text": [
      "2021092600-4119\n"
     ]
    },
    {
     "name": "stderr",
     "output_type": "stream",
     "text": [
      " 28%|████████████████████████████████                                                                                   | 2388/8555 [21:19<53:14,  1.93it/s]"
     ]
    },
    {
     "name": "stdout",
     "output_type": "stream",
     "text": [
      "2021092601-166\n"
     ]
    },
    {
     "name": "stderr",
     "output_type": "stream",
     "text": [
      " 28%|████████████████████████████████▏                                                                                  | 2391/8555 [21:21<53:09,  1.93it/s]"
     ]
    },
    {
     "name": "stdout",
     "output_type": "stream",
     "text": [
      "2021092601-358\n"
     ]
    },
    {
     "name": "stderr",
     "output_type": "stream",
     "text": [
      " 28%|████████████████████████████████▎                                                                                  | 2401/8555 [21:26<51:35,  1.99it/s]"
     ]
    },
    {
     "name": "stdout",
     "output_type": "stream",
     "text": [
      "2021092601-908\n"
     ]
    },
    {
     "name": "stderr",
     "output_type": "stream",
     "text": [
      " 28%|████████████████████████████████▌                                                                                  | 2421/8555 [21:36<52:53,  1.93it/s]"
     ]
    },
    {
     "name": "stdout",
     "output_type": "stream",
     "text": [
      "2021092601-2172\n"
     ]
    },
    {
     "name": "stderr",
     "output_type": "stream",
     "text": [
      " 28%|████████████████████████████████▌                                                                                  | 2424/8555 [21:38<52:25,  1.95it/s]"
     ]
    },
    {
     "name": "stdout",
     "output_type": "stream",
     "text": [
      "2021092601-2294\n"
     ]
    },
    {
     "name": "stderr",
     "output_type": "stream",
     "text": [
      " 29%|█████████████████████████████████                                                                                  | 2458/8555 [21:55<51:05,  1.99it/s]"
     ]
    },
    {
     "name": "stdout",
     "output_type": "stream",
     "text": [
      "2021092602-799\n"
     ]
    },
    {
     "name": "stderr",
     "output_type": "stream",
     "text": [
      "\r",
      " 29%|█████████████████████████████████                                                                                  | 2459/8555 [21:56<50:58,  1.99it/s]"
     ]
    },
    {
     "name": "stdout",
     "output_type": "stream",
     "text": [
      "2021092602-857\n"
     ]
    },
    {
     "name": "stderr",
     "output_type": "stream",
     "text": [
      " 29%|████████████████████████████████▌                                                                                | 2461/8555 [21:57<1:00:16,  1.69it/s]"
     ]
    },
    {
     "name": "stdout",
     "output_type": "stream",
     "text": [
      "2021092602-941\n"
     ]
    },
    {
     "name": "stderr",
     "output_type": "stream",
     "text": [
      " 29%|█████████████████████████████████                                                                                  | 2463/8555 [21:58<59:53,  1.70it/s]"
     ]
    },
    {
     "name": "stdout",
     "output_type": "stream",
     "text": [
      "2021092602-1058\n"
     ]
    },
    {
     "name": "stderr",
     "output_type": "stream",
     "text": [
      " 29%|████████████████████████████████▌                                                                                | 2467/8555 [22:01<1:04:40,  1.57it/s]"
     ]
    },
    {
     "name": "stdout",
     "output_type": "stream",
     "text": [
      "2021092602-1246\n"
     ]
    },
    {
     "name": "stderr",
     "output_type": "stream",
     "text": [
      " 29%|█████████████████████████████████▌                                                                                 | 2496/8555 [22:17<54:53,  1.84it/s]"
     ]
    },
    {
     "name": "stdout",
     "output_type": "stream",
     "text": [
      "2021092602-2850\n"
     ]
    },
    {
     "name": "stderr",
     "output_type": "stream",
     "text": [
      " 30%|██████████████████████████████████                                                                                 | 2531/8555 [22:36<53:58,  1.86it/s]"
     ]
    },
    {
     "name": "stdout",
     "output_type": "stream",
     "text": [
      "2021092603-1055\n"
     ]
    },
    {
     "name": "stderr",
     "output_type": "stream",
     "text": [
      "\r",
      " 30%|██████████████████████████████████                                                                                 | 2532/8555 [22:36<53:51,  1.86it/s]"
     ]
    },
    {
     "name": "stdout",
     "output_type": "stream",
     "text": [
      "2021092603-1111\n"
     ]
    },
    {
     "name": "stderr",
     "output_type": "stream",
     "text": [
      " 30%|██████████████████████████████████                                                                                 | 2536/8555 [22:38<54:19,  1.85it/s]"
     ]
    },
    {
     "name": "stdout",
     "output_type": "stream",
     "text": [
      "2021092603-1302\n"
     ]
    },
    {
     "name": "stderr",
     "output_type": "stream",
     "text": [
      " 30%|██████████████████████████████████▏                                                                                | 2543/8555 [22:42<52:43,  1.90it/s]"
     ]
    },
    {
     "name": "stdout",
     "output_type": "stream",
     "text": [
      "2021092603-1875\n"
     ]
    },
    {
     "name": "stderr",
     "output_type": "stream",
     "text": [
      " 30%|██████████████████████████████████▎                                                                                | 2548/8555 [22:45<53:38,  1.87it/s]"
     ]
    },
    {
     "name": "stdout",
     "output_type": "stream",
     "text": [
      "2021092603-2262\n"
     ]
    },
    {
     "name": "stderr",
     "output_type": "stream",
     "text": [
      " 30%|██████████████████████████████████▋                                                                                | 2579/8555 [23:01<52:33,  1.89it/s]"
     ]
    },
    {
     "name": "stdout",
     "output_type": "stream",
     "text": [
      "2021092604-232\n"
     ]
    },
    {
     "name": "stderr",
     "output_type": "stream",
     "text": [
      "\r",
      " 30%|██████████████████████████████████▋                                                                                | 2580/8555 [23:02<52:19,  1.90it/s]"
     ]
    },
    {
     "name": "stdout",
     "output_type": "stream",
     "text": [
      "2021092604-304\n"
     ]
    },
    {
     "name": "stderr",
     "output_type": "stream",
     "text": [
      " 30%|██████████████████████████████████▊                                                                                | 2586/8555 [23:05<54:33,  1.82it/s]"
     ]
    },
    {
     "name": "stdout",
     "output_type": "stream",
     "text": [
      "2021092604-564\n"
     ]
    },
    {
     "name": "stderr",
     "output_type": "stream",
     "text": [
      " 31%|███████████████████████████████████▎                                                                               | 2624/8555 [23:25<52:01,  1.90it/s]"
     ]
    },
    {
     "name": "stdout",
     "output_type": "stream",
     "text": [
      "2021092604-2625\n"
     ]
    },
    {
     "name": "stderr",
     "output_type": "stream",
     "text": [
      " 31%|███████████████████████████████████▍                                                                               | 2637/8555 [23:32<52:56,  1.86it/s]"
     ]
    },
    {
     "name": "stdout",
     "output_type": "stream",
     "text": [
      "2021092604-3368\n"
     ]
    },
    {
     "name": "stderr",
     "output_type": "stream",
     "text": [
      " 31%|███████████████████████████████████▍                                                                               | 2639/8555 [23:33<52:37,  1.87it/s]"
     ]
    },
    {
     "name": "stdout",
     "output_type": "stream",
     "text": [
      "2021092604-3610\n"
     ]
    },
    {
     "name": "stderr",
     "output_type": "stream",
     "text": [
      " 31%|███████████████████████████████████▋                                                                               | 2654/8555 [23:41<54:14,  1.81it/s]"
     ]
    },
    {
     "name": "stdout",
     "output_type": "stream",
     "text": [
      "2021092604-4253\n"
     ]
    },
    {
     "name": "stderr",
     "output_type": "stream",
     "text": [
      " 31%|███████████████████████████████████▉                                                                               | 2674/8555 [23:52<52:25,  1.87it/s]"
     ]
    },
    {
     "name": "stdout",
     "output_type": "stream",
     "text": [
      "2021092605-1069\n"
     ]
    },
    {
     "name": "stderr",
     "output_type": "stream",
     "text": [
      " 31%|████████████████████████████████████                                                                               | 2687/8555 [23:59<53:55,  1.81it/s]"
     ]
    },
    {
     "name": "stdout",
     "output_type": "stream",
     "text": [
      "2021092605-1784\n"
     ]
    },
    {
     "name": "stderr",
     "output_type": "stream",
     "text": [
      " 31%|████████████████████████████████████▏                                                                              | 2690/8555 [24:01<53:39,  1.82it/s]"
     ]
    },
    {
     "name": "stdout",
     "output_type": "stream",
     "text": [
      "2021092605-1911\n"
     ]
    },
    {
     "name": "stderr",
     "output_type": "stream",
     "text": [
      "\r",
      " 31%|████████████████████████████████████▏                                                                              | 2691/8555 [24:02<53:23,  1.83it/s]"
     ]
    },
    {
     "name": "stdout",
     "output_type": "stream",
     "text": [
      "2021092605-1940\n"
     ]
    },
    {
     "name": "stderr",
     "output_type": "stream",
     "text": [
      " 32%|████████████████████████████████████▍                                                                              | 2707/8555 [24:10<52:21,  1.86it/s]"
     ]
    },
    {
     "name": "stdout",
     "output_type": "stream",
     "text": [
      "2021092605-2915\n"
     ]
    },
    {
     "name": "stderr",
     "output_type": "stream",
     "text": [
      " 32%|████████████████████████████████████▍                                                                              | 2713/8555 [24:13<51:50,  1.88it/s]"
     ]
    },
    {
     "name": "stdout",
     "output_type": "stream",
     "text": [
      "2021092605-3112\n"
     ]
    },
    {
     "name": "stderr",
     "output_type": "stream",
     "text": [
      "\r",
      " 32%|████████████████████████████████████▍                                                                              | 2714/8555 [24:14<51:40,  1.88it/s]"
     ]
    },
    {
     "name": "stdout",
     "output_type": "stream",
     "text": [
      "2021092605-3197\n"
     ]
    },
    {
     "name": "stderr",
     "output_type": "stream",
     "text": [
      " 32%|████████████████████████████████████▌                                                                              | 2717/8555 [24:16<50:55,  1.91it/s]"
     ]
    },
    {
     "name": "stdout",
     "output_type": "stream",
     "text": [
      "2021092605-3296\n"
     ]
    },
    {
     "name": "stderr",
     "output_type": "stream",
     "text": [
      " 32%|████████████████████████████████████▌                                                                              | 2722/8555 [24:18<51:40,  1.88it/s]"
     ]
    },
    {
     "name": "stdout",
     "output_type": "stream",
     "text": [
      "2021092605-3684\n"
     ]
    },
    {
     "name": "stderr",
     "output_type": "stream",
     "text": [
      " 32%|████████████████████████████████████▋                                                                              | 2733/8555 [24:25<52:00,  1.87it/s]\n"
     ]
    },
    {
     "ename": "KeyboardInterrupt",
     "evalue": "",
     "output_type": "error",
     "traceback": [
      "\u001b[0;31m---------------------------------------------------------------------------\u001b[0m",
      "\u001b[0;31mKeyboardInterrupt\u001b[0m                         Traceback (most recent call last)",
      "Cell \u001b[0;32mIn [25], line 13\u001b[0m\n\u001b[1;32m     11\u001b[0m frames_tot \u001b[38;5;241m=\u001b[39m np\u001b[38;5;241m.\u001b[39msum(np\u001b[38;5;241m.\u001b[39marray([\u001b[38;5;28mlen\u001b[39m(\u001b[38;5;28mlist\u001b[39m(dat[\u001b[38;5;124m'\u001b[39m\u001b[38;5;124mpass\u001b[39m\u001b[38;5;124m'\u001b[39m][games[i]]\u001b[38;5;241m.\u001b[39mkeys())) \u001b[38;5;28;01mfor\u001b[39;00m i \u001b[38;5;129;01min\u001b[39;00m \u001b[38;5;28mrange\u001b[39m(\u001b[38;5;28mlen\u001b[39m(games))]))\n\u001b[1;32m     12\u001b[0m X \u001b[38;5;241m=\u001b[39m np\u001b[38;5;241m.\u001b[39mzeros((frames_tot,\u001b[38;5;241m22\u001b[39m\u001b[38;5;241m*\u001b[39m\u001b[38;5;241m7\u001b[39m))\u001b[38;5;241m*\u001b[39mnp\u001b[38;5;241m.\u001b[39mnan \u001b[38;5;66;03m#[playId, stats for each player]\u001b[39;00m\n\u001b[0;32m---> 13\u001b[0m X_players \u001b[38;5;241m=\u001b[39m \u001b[43mnp\u001b[49m\u001b[38;5;241;43m.\u001b[39;49m\u001b[43mzeros\u001b[49m\u001b[43m(\u001b[49m\u001b[43m(\u001b[49m\u001b[43mframes_tot\u001b[49m\u001b[43m,\u001b[49m\u001b[38;5;241;43m22\u001b[39;49m\u001b[38;5;241;43m*\u001b[39;49m\u001b[38;5;241;43m7\u001b[39;49m\u001b[43m)\u001b[49m\u001b[43m)\u001b[49m\u001b[38;5;241m*\u001b[39mnp\u001b[38;5;241m.\u001b[39mnan\n\u001b[1;32m     16\u001b[0m count \u001b[38;5;241m=\u001b[39m \u001b[38;5;241m0\u001b[39m\n\u001b[1;32m     17\u001b[0m \u001b[38;5;66;03m#Get the frame at which the QB was sacked\u001b[39;00m\n",
      "\u001b[0;31mKeyboardInterrupt\u001b[0m: "
     ]
    }
   ],
   "source": [
    "#Use both models on all plays to compute the expected pocket time\n",
    "games = list(dat['pass'].keys())\n",
    "return_dict = {}\n",
    "for i in tqdm(range(len(games))):\n",
    "    try:\n",
    "        return_dict[str(games[i])] = {}\n",
    "        return_dict[str(games[i])]['EPT_ave'] = {}\n",
    "        return_dict[str(games[i])]['EPT_decomp'] = {}\n",
    "\n",
    "        #Create arrays for the function\n",
    "        frames_tot = np.sum(np.array([len(list(dat['pass'][games[i]].keys())) for i in range(len(games))]))\n",
    "        X = np.zeros((frames_tot,22*7))*np.nan #[playId, stats for each player]\n",
    "        X_players = np.zeros((frames_tot,22*7))*np.nan\n",
    "\n",
    "\n",
    "        count = 0\n",
    "        #Get the frame at which the QB was sacked\n",
    "        frames = list(dat['pass'][games[i]].keys())\n",
    "\n",
    "        #Get the frame at which the ball was snapped\n",
    "        ball_snap = int(catchframe[games[i]])\n",
    "        ball_pass = int(passframe[games[i]])\n",
    "\n",
    "        tot_frames = frames[ball_snap:ball_pass+1]\n",
    "        for j in range(len(tot_frames)-1): #up until QB was sacked (including)\n",
    "            playerID_DE = player_pos2player_id(dat,games[i],'DE')\n",
    "\n",
    "            if '43292.0' in playerID_DE:\n",
    "                print('yes')\n",
    "            count += 1\n",
    "    except KeyError:\n",
    "        print(games[i])\n",
    "        \n",
    "        "
   ]
  },
  {
   "cell_type": "code",
   "execution_count": 16,
   "id": "891fb076",
   "metadata": {},
   "outputs": [
    {
     "name": "stderr",
     "output_type": "stream",
     "text": [
      "  0%|                                                                                                                              | 0/8555 [00:00<?, ?it/s]\n"
     ]
    },
    {
     "ename": "KeyError",
     "evalue": "'2021090900-2298'",
     "output_type": "error",
     "traceback": [
      "\u001b[0;31m---------------------------------------------------------------------------\u001b[0m",
      "\u001b[0;31mKeyError\u001b[0m                                  Traceback (most recent call last)",
      "Cell \u001b[0;32mIn [16], line 23\u001b[0m\n\u001b[1;32m     21\u001b[0m \u001b[38;5;66;03m#Get the frame at which the ball was snapped\u001b[39;00m\n\u001b[1;32m     22\u001b[0m ball_snap \u001b[38;5;241m=\u001b[39m \u001b[38;5;28mint\u001b[39m(catchframe[games[i]])\n\u001b[0;32m---> 23\u001b[0m ball_pass \u001b[38;5;241m=\u001b[39m \u001b[38;5;28mint\u001b[39m(\u001b[43mpassframe\u001b[49m\u001b[43m[\u001b[49m\u001b[43mgames\u001b[49m\u001b[43m[\u001b[49m\u001b[43mi\u001b[49m\u001b[43m]\u001b[49m\u001b[43m]\u001b[49m)\n\u001b[1;32m     25\u001b[0m tot_frames \u001b[38;5;241m=\u001b[39m frames[ball_snap:ball_pass\u001b[38;5;241m+\u001b[39m\u001b[38;5;241m1\u001b[39m]\n\u001b[1;32m     26\u001b[0m \u001b[38;5;28;01mfor\u001b[39;00m j \u001b[38;5;129;01min\u001b[39;00m \u001b[38;5;28mrange\u001b[39m(\u001b[38;5;28mlen\u001b[39m(tot_frames)\u001b[38;5;241m-\u001b[39m\u001b[38;5;241m1\u001b[39m): \u001b[38;5;66;03m#up until QB was sacked (including)\u001b[39;00m\n",
      "\u001b[0;31mKeyError\u001b[0m: '2021090900-2298'"
     ]
    }
   ],
   "source": [
    "#Use both models on all plays to compute the expected pocket time\n",
    "games = list(dat['pass'].keys())\n",
    "return_dict = {}\n",
    "for i in tqdm(range(len(games))):\n",
    "    i = 44\n",
    "    #try:\n",
    "    return_dict[str(games[i])] = {}\n",
    "    return_dict[str(games[i])]['EPT_ave'] = {}\n",
    "    return_dict[str(games[i])]['EPT_decomp'] = {}\n",
    "\n",
    "    #Create arrays for the function\n",
    "    frames_tot = np.sum(np.array([len(list(dat['pass'][games[i]].keys())) for i in range(len(games))]))\n",
    "    X = np.zeros((frames_tot,22*7))*np.nan #[playId, stats for each player]\n",
    "    X_players = np.zeros((frames_tot,22*7))*np.nan\n",
    "\n",
    "\n",
    "    count = 0\n",
    "    #Get the frame at which the QB was sacked\n",
    "    frames = list(dat['pass'][games[i]].keys())\n",
    "\n",
    "    #Get the frame at which the ball was snapped\n",
    "    ball_snap = int(catchframe[games[i]])\n",
    "    ball_pass = int(passframe[games[i]])\n",
    "\n",
    "    tot_frames = frames[ball_snap:ball_pass+1]\n",
    "    for j in range(len(tot_frames)-1): #up until QB was sacked (including)\n",
    "        X[count,:],X_players[count,:] = GetFieldStateFeatures(games[i],tot_frames[j],dat)\n",
    "\n",
    "        #Get offsenive linemam\n",
    "        playerID_C = player_pos2player_id(dat,games[i],'C')\n",
    "        playerID_G = player_pos2player_id(dat,games[i],'G')\n",
    "        playerID_T = player_pos2player_id(dat,games[i],'T')\n",
    "\n",
    "        #Get defensive lineman\n",
    "        playerID_NT = player_pos2player_id(dat,games[i],'NT')\n",
    "        playerID_DT = player_pos2player_id(dat,games[i],'DT')\n",
    "        playerID_DE = player_pos2player_id(dat,games[i],'DE')\n",
    "\n",
    "        if '43292.0' in playerID_DE:\n",
    "            print('yes')\n",
    "\n",
    "        all_players = np.concatenate((playerID_C,playerID_G,playerID_T,playerID_NT,playerID_DT,playerID_DE))\n",
    "\n",
    "        #Initialize empty arrays\n",
    "        if j == 0:\n",
    "            playerID = np.zeros((frames_tot,all_players.size))\n",
    "            X_a = np.zeros((all_players.size,frames_tot,6*7))*np.nan #[O-line player,playId, 5 closest players + reference player w/ 7 data points]\n",
    "\n",
    "        playerID[count,:] = all_players\n",
    "        playerID_tags = np.concatenate((['C']*len(playerID_C),['G']*len(playerID_G),['T']*len(playerID_T),['NT']*len(playerID_NT),['DT']*len(playerID_DT),['DE']*len(playerID_DE)))[:6]\n",
    "\n",
    "        X_a[:,count,:] = [model_a_assimilation(dat,games[i],tot_frames[j],tot_frames,j,str(pid)) for pid in playerID[count,:]]\n",
    "\n",
    "        count += 1\n",
    "    #Remove nan data points (frames after the ball was thrown)\n",
    "    ishave = np.where(np.isnan(X))[0][0]\n",
    "    X = X[:ishave]\n",
    "    X_players = X_players[:ishave]\n",
    "    X_a = X_a[:,:ishave,:]\n",
    "    xt = torch.tensor(X)\n",
    "\n",
    "    #Call the model and make the prediction\n",
    "    pred=np.zeros((X.shape[0]))*np.nan\n",
    "\n",
    "    with torch.no_grad():\n",
    "        for count,data in enumerate(xt):\n",
    "            outputs = net(data.float()).squeeze()\n",
    "            pred[count] = float(outputs)\n",
    "\n",
    "    return_dict[str(games[i])]['EPT'] = pred\n",
    "\n",
    "    #Put the field states into model a for the O-line players to find contributions to the total expected time\n",
    "    net_a = torch.load(data_dir+'model_a_full.pt') #model a\n",
    "    xt_a = torch.tensor(X_a)\n",
    "\n",
    "    #Call the model and make the prediction for each O-line player\n",
    "    pred_a=np.zeros((X_a.shape[0],X_a.shape[1],5))*np.nan #[O-line Player, frames, (dx,dy,a,u,v)]\n",
    "    for c in range(X_a.shape[0]):\n",
    "        with torch.no_grad():\n",
    "            for count,data in enumerate(xt_a[c]):\n",
    "                outputs = net_a(data.float()).squeeze()\n",
    "                pred_a[c,count,:] = np.array(outputs).astype(float)\n",
    "\n",
    "\n",
    "    #Compute the field states needed for model B from model A's output a: (dx,dy,a,u,v) b: (xball,yball,dist,u,v,a)\n",
    "    playerID = playerID[0].tolist()\n",
    "    pred_newb_return = []\n",
    "    for i_ in range(pred_a.shape[0]):\n",
    "        X_newb = np.copy(X)\n",
    "        for j in range(X_newb.shape[0]):\n",
    "            #dx relative to the football\n",
    "            X_newb[j][np.where(X_players[j]==float(playerID[i_]))[0][0]] = X[j][np.where(X_players[j]==float(playerID[i_]))[0][0]] + pred_a[i_][j][0]\n",
    "\n",
    "            #dy relative to the football\n",
    "            X_newb[j][np.where(X_players[j]==float(playerID[i_]))[0][1]] = X[j][np.where(X_players[j]==float(playerID[i_]))[0][1]] + pred_a[i_][j][1]\n",
    "\n",
    "            #distance relative to the football\n",
    "            X_newb[j][np.where(X_players[j]==float(playerID[i_]))[0][2]] = X[j][np.where(X_players[j]==float(playerID[i_]))[0][2]] + (np.sqrt((pred_a[i_][j][0]**2)+(pred_a[i_][j][1]**2)))\n",
    "\n",
    "            #u component of the speed\n",
    "            X_newb[j][np.where(X_players[j]==float(playerID[i_]))[0][3]] = X[j][np.where(X_players[j]==float(playerID[i_]))[0][3]] + pred_a[i_][j][3]\n",
    "\n",
    "            #v component of the speed\n",
    "            X_newb[j][np.where(X_players[j]==float(playerID[i_]))[0][4]] = X[j][np.where(X_players[j]==float(playerID[i_]))[0][4]] + pred_a[i_][j][4]\n",
    "\n",
    "            #Acceleration of the player\n",
    "            X_newb[j][np.where(X_players[j]==float(playerID[i_]))[0][5]] = X[j][np.where(X_players[j]==float(playerID[i_]))[0][5]] + pred_a[i_][j][2]\n",
    "\n",
    "        #Call the model and make the prediction of the contribution\n",
    "        xt_newb = torch.tensor(X_newb)\n",
    "        pred_newb=np.zeros((len(X_newb)))*np.nan\n",
    "\n",
    "        with torch.no_grad():\n",
    "            for count,data in enumerate(xt_newb):\n",
    "                outputs = net(data.float()).squeeze()\n",
    "                pred_newb[count] = float(outputs)\n",
    "        return_dict[str(games[i])]['EPT_ave'][str(playerID[i_])] = pred_newb\n",
    "\n",
    "    #Compute the field states needed for model B -> second controlled experiment\n",
    "    for i_ in range(len(playerID)):\n",
    "        X_newb2 = np.copy(X)\n",
    "        for j in range(X_newb2.shape[0]-1):\n",
    "            #dx relative to the football\n",
    "            X_newb2[j][np.where(X_players[j]==float(playerID[i_]))[0][0]] = X[j][np.where(X_players[j]==float(playerID[i_]))[0][0]] + X[j+1][np.where(X_players[j+1]==float(playerID[i_]))[0][0]]\n",
    "\n",
    "            #dy relative to the football\n",
    "            X_newb2[j][np.where(X_players[j]==float(playerID[i_]))[0][1]] = X[j][np.where(X_players[j]==float(playerID[i_]))[0][1]] + X[j+1][np.where(X_players[j+1]==float(playerID[i_]))[0][1]]\n",
    "\n",
    "            #distance relative to the football\n",
    "            X_newb2[j][np.where(X_players[j]==float(playerID[i_]))[0][2]] = X[j][np.where(X_players[j]==float(playerID[i_]))[0][2]] + (np.sqrt((X[j+1][np.where(X_players[j+1]==float(playerID[i_]))[0][0]]**2)+(X[j+1][np.where(X_players[j+1]==float(playerID[i_]))[0][1]]**2)))\n",
    "\n",
    "            #u component of the speed\n",
    "            X_newb2[j][np.where(X_players[j]==float(playerID[i_]))[0][3]] = X[j][np.where(X_players[j]==float(playerID[i_]))[0][3]] + X[j+1][np.where(X_players[j+1]==float(playerID[i_]))[0][3]]\n",
    "\n",
    "            #v component of the speed\n",
    "            X_newb2[j][np.where(X_players[j]==float(playerID[i_]))[0][4]] = X[j][np.where(X_players[j]==float(playerID[i_]))[0][4]] + X[j+1][np.where(X_players[j+1]==float(playerID[i_]))[0][4]]\n",
    "\n",
    "            #Acceleration of the player\n",
    "            X_newb2[j][np.where(X_players[j]==float(playerID[i_]))[0][5]] = X[j][np.where(X_players[j]==float(playerID[i_]))[0][5]] + X[j+1][np.where(X_players[j+1]==float(playerID[i_]))[0][2]]\n",
    "\n",
    "\n",
    "        #Call the model and make the prediction of the contribution\n",
    "        xt_newb2 = torch.tensor(X_newb2)\n",
    "        pred_newb2 = np.zeros((len(X_newb2)))*np.nan\n",
    "\n",
    "        with torch.no_grad():\n",
    "            for count,data in enumerate(xt_newb2):\n",
    "                outputs = net(data.float()).squeeze()\n",
    "                pred_newb2[count] = float(outputs)\n",
    "        return_dict[str(games[i])]['EPT_decomp'][str(playerID[i_])] = pred_newb2\n",
    "    #except KeyError:\n",
    "        #pass\n"
   ]
  },
  {
   "cell_type": "code",
   "execution_count": 60,
   "id": "cfd77acd",
   "metadata": {},
   "outputs": [],
   "source": [
    "#Dump this data into a pickle file for later analysis\n",
    "with open('EPT_variables.pkl', 'wb') as f:\n",
    "    pickle.dump([return_dict], f)"
   ]
  },
  {
   "cell_type": "code",
   "execution_count": 52,
   "id": "022835e4",
   "metadata": {},
   "outputs": [
    {
     "data": {
      "text/plain": [
       "dict_keys(['EPT_ave', 'EPT_decomp', 'EPT'])"
      ]
     },
     "execution_count": 52,
     "metadata": {},
     "output_type": "execute_result"
    }
   ],
   "source": [
    "return_dict[str(games[i])].keys()"
   ]
  },
  {
   "cell_type": "code",
   "execution_count": 66,
   "id": "95e23cec",
   "metadata": {},
   "outputs": [
    {
     "data": {
      "text/plain": [
       "['37.77',\n",
       " '24.22',\n",
       " '0.29',\n",
       " '0.3',\n",
       " '0.03',\n",
       " '165.16',\n",
       " '84.99',\n",
       " '12.0',\n",
       " 'right',\n",
       " 'QB',\n",
       " '-1.73852913314477',\n",
       " 'home']"
      ]
     },
     "execution_count": 66,
     "metadata": {},
     "output_type": "execute_result"
    }
   ],
   "source": [
    "dat['pass'][str(games[0])]['1']['25511.0']"
   ]
  },
  {
   "cell_type": "code",
   "execution_count": 26,
   "id": "be633e1b",
   "metadata": {},
   "outputs": [
    {
     "data": {
      "text/plain": [
       "'2021092605-4162'"
      ]
     },
     "execution_count": 26,
     "metadata": {},
     "output_type": "execute_result"
    }
   ],
   "source": [
    "games[i]"
   ]
  },
  {
   "cell_type": "code",
   "execution_count": 27,
   "id": "1754abcc",
   "metadata": {},
   "outputs": [
    {
     "data": {
      "text/plain": [
       "(6, 55)"
      ]
     },
     "execution_count": 27,
     "metadata": {},
     "output_type": "execute_result"
    }
   ],
   "source": [
    "ball_snap = int(catchframe['2021091913-2775'])\n",
    "ball_pass = int(passframe['2021091913-2775'])\n",
    "ball_snap,ball_pass"
   ]
  },
  {
   "cell_type": "code",
   "execution_count": null,
   "id": "7df5716e",
   "metadata": {},
   "outputs": [],
   "source": []
  }
 ],
 "metadata": {
  "kernelspec": {
   "display_name": "Python 3 (ipykernel)",
   "language": "python",
   "name": "python3"
  },
  "language_info": {
   "codemirror_mode": {
    "name": "ipython",
    "version": 3
   },
   "file_extension": ".py",
   "mimetype": "text/x-python",
   "name": "python",
   "nbconvert_exporter": "python",
   "pygments_lexer": "ipython3",
   "version": "3.10.6"
  }
 },
 "nbformat": 4,
 "nbformat_minor": 5
}
